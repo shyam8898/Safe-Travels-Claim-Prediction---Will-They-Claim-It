{
 "cells": [
  {
   "cell_type": "markdown",
   "metadata": {},
   "source": [
    "# Problem Statement\n",
    "\n",
    "### Business Use Case\n",
    "SafeTravel Inc. is one of the world's largest insurance companies specializing in travel insurance. During\n",
    "travel, there are a lot of risk factors - loss of baggage, airline cancellations, health issues etc. The potential\n",
    "customers are travellers who want to insure themselves against travel-related risks. They have different\n",
    "product offerings like 1-way travel insurance, 2-way insurance, insurance against cancellations and so on.\n",
    "They receive thousands of claims spread across different products.\n",
    "Wrongly denying a genuine claim could lead to lawsuits against the company and approving the wrong\n",
    "claim would lead to a loss. Automatically predicting the claims could lead to a lot of benefits and solve\n",
    "some other supplementary problems too. As a team of data scientists consulting for SafeTravel Inc, you\n",
    "are now responsible for meeting their business outcome.\n",
    "\n",
    "### Problem Statement\n",
    "Insurance companies take risks over customers. Risk management is a very\n",
    "important aspect of the insurance industry. Insurers consider every\n",
    "quantifiable factor to develop profiles of high and low insurance risks. Insurers\n",
    "collect vast amounts of information about policyholders and analyze the data.\n",
    "\n",
    "### Data Science Problem Statement\n",
    "As a Data scientist in an insurance company, we need to analyze the\n",
    "available data and predict whether to sanction the insurance or not.\n",
    "\n",
    "### Evalution Metric\n",
    "The evaluation metric for this task will be [precision_score](https://scikit-learn.org/stable/modules/generated/sklearn.metrics.precision_score.html)."
   ]
  },
  {
   "cell_type": "markdown",
   "metadata": {},
   "source": [
    "# Understanding the Dataset\n",
    "\n",
    "The training dataset consists of data corresponding to 52310 customers and the\n",
    "test dataset consists of 22421 customers.\n",
    "\n",
    "**Features**\n",
    "- Target: Claim Status (Claim)\n",
    "- Name of agency (Agency)\n",
    "- Type of travel insurance agencies (Agency.Type)\n",
    "- Distribution channel of travel insurance agencies (Distribution.Channel)\n",
    "- Name of the travel insurance products (Product.Name)\n",
    "- Duration of travel (Duration)\n",
    "- Destination of travel (Destination)\n",
    "- Amount of sales of travel insurance policies (Net.Sales)\n",
    "- The commission received for travel insurance agency (Commission)\n",
    "- Age of insured (Age)\n",
    "- The identification record of every observation (ID)"
   ]
  },
  {
   "cell_type": "markdown",
   "metadata": {},
   "source": [
    "## Import Libraries"
   ]
  },
  {
   "cell_type": "code",
   "execution_count": 1,
   "metadata": {},
   "outputs": [],
   "source": [
    "# Basic Libraries\n",
    "import pandas as pd\n",
    "import numpy as np\n",
    "import matplotlib.pyplot as plt\n",
    "import seaborn as sns\n",
    "import time\n",
    "import warnings\n",
    "warnings.filterwarnings('ignore')\n",
    "\n",
    "# Scipy libraries\n",
    "from scipy.stats import shapiro\n",
    "from scipy.stats import skew\n",
    "from scipy.stats import normaltest\n",
    "from scipy.stats import kurtosis\n",
    "from scipy.stats import pearsonr\n",
    "from statsmodels.graphics.gofplots import qqplot\n",
    "\n",
    "# train test split\n",
    "from sklearn.model_selection import train_test_split\n",
    "\n",
    "# Ml Models\n",
    "from sklearn.linear_model import LogisticRegression\n",
    "from sklearn.tree import DecisionTreeClassifier\n",
    "from sklearn.ensemble import RandomForestClassifier,ExtraTreesClassifier\n",
    "from sklearn.ensemble import VotingClassifier,GradientBoostingClassifier\n",
    "#from xgboost import XGBClassifier\n",
    "\n",
    "# Score\n",
    "from sklearn.metrics import precision_score,recall_score,accuracy_score,f1_score,classification_report,confusion_matrix\n",
    "\n",
    "# Upsampling\n",
    "from imblearn.combine import SMOTETomek\n",
    "from imblearn.over_sampling import RandomOverSampler\n",
    "\n",
    "# Feature Selection\n",
    "from sklearn.feature_selection import SelectKBest,mutual_info_classif,RFECV\n",
    "\n",
    "# Model Selection\n",
    "from sklearn.model_selection import RandomizedSearchCV\n",
    "\n",
    "# outliers handler\n",
    "from scipy.stats.mstats import winsorize\n",
    "\n",
    "# Pipeline\n",
    "from sklearn.pipeline import Pipeline"
   ]
  },
  {
   "cell_type": "markdown",
   "metadata": {},
   "source": [
    "## Load Train Dataset"
   ]
  },
  {
   "cell_type": "code",
   "execution_count": 3,
   "metadata": {},
   "outputs": [
    {
     "data": {
      "text/html": [
       "<div>\n",
       "<style scoped>\n",
       "    .dataframe tbody tr th:only-of-type {\n",
       "        vertical-align: middle;\n",
       "    }\n",
       "\n",
       "    .dataframe tbody tr th {\n",
       "        vertical-align: top;\n",
       "    }\n",
       "\n",
       "    .dataframe thead th {\n",
       "        text-align: right;\n",
       "    }\n",
       "</style>\n",
       "<table border=\"1\" class=\"dataframe\">\n",
       "  <thead>\n",
       "    <tr style=\"text-align: right;\">\n",
       "      <th></th>\n",
       "      <th>ID</th>\n",
       "      <th>Agency</th>\n",
       "      <th>Agency Type</th>\n",
       "      <th>Distribution Channel</th>\n",
       "      <th>Product Name</th>\n",
       "      <th>Duration</th>\n",
       "      <th>Destination</th>\n",
       "      <th>Net Sales</th>\n",
       "      <th>Commision (in value)</th>\n",
       "      <th>Age</th>\n",
       "      <th>Claim</th>\n",
       "    </tr>\n",
       "  </thead>\n",
       "  <tbody>\n",
       "    <tr>\n",
       "      <td>0</td>\n",
       "      <td>2010</td>\n",
       "      <td>EPX</td>\n",
       "      <td>Travel Agency</td>\n",
       "      <td>Online</td>\n",
       "      <td>Cancellation Plan</td>\n",
       "      <td>61</td>\n",
       "      <td>PHILIPPINES</td>\n",
       "      <td>12.0</td>\n",
       "      <td>0.00</td>\n",
       "      <td>41</td>\n",
       "      <td>0</td>\n",
       "    </tr>\n",
       "    <tr>\n",
       "      <td>1</td>\n",
       "      <td>4245</td>\n",
       "      <td>EPX</td>\n",
       "      <td>Travel Agency</td>\n",
       "      <td>Online</td>\n",
       "      <td>Cancellation Plan</td>\n",
       "      <td>4</td>\n",
       "      <td>MALAYSIA</td>\n",
       "      <td>17.0</td>\n",
       "      <td>0.00</td>\n",
       "      <td>35</td>\n",
       "      <td>0</td>\n",
       "    </tr>\n",
       "    <tr>\n",
       "      <td>2</td>\n",
       "      <td>9251</td>\n",
       "      <td>CWT</td>\n",
       "      <td>Travel Agency</td>\n",
       "      <td>Online</td>\n",
       "      <td>Rental Vehicle Excess Insurance</td>\n",
       "      <td>26</td>\n",
       "      <td>THAILAND</td>\n",
       "      <td>19.8</td>\n",
       "      <td>11.88</td>\n",
       "      <td>47</td>\n",
       "      <td>0</td>\n",
       "    </tr>\n",
       "    <tr>\n",
       "      <td>3</td>\n",
       "      <td>4754</td>\n",
       "      <td>EPX</td>\n",
       "      <td>Travel Agency</td>\n",
       "      <td>Online</td>\n",
       "      <td>2 way Comprehensive Plan</td>\n",
       "      <td>15</td>\n",
       "      <td>HONG KONG</td>\n",
       "      <td>27.0</td>\n",
       "      <td>0.00</td>\n",
       "      <td>48</td>\n",
       "      <td>0</td>\n",
       "    </tr>\n",
       "    <tr>\n",
       "      <td>4</td>\n",
       "      <td>8840</td>\n",
       "      <td>EPX</td>\n",
       "      <td>Travel Agency</td>\n",
       "      <td>Online</td>\n",
       "      <td>2 way Comprehensive Plan</td>\n",
       "      <td>15</td>\n",
       "      <td>MALAYSIA</td>\n",
       "      <td>37.0</td>\n",
       "      <td>0.00</td>\n",
       "      <td>36</td>\n",
       "      <td>0</td>\n",
       "    </tr>\n",
       "  </tbody>\n",
       "</table>\n",
       "</div>"
      ],
      "text/plain": [
       "     ID Agency    Agency Type Distribution Channel  \\\n",
       "0  2010    EPX  Travel Agency               Online   \n",
       "1  4245    EPX  Travel Agency               Online   \n",
       "2  9251    CWT  Travel Agency               Online   \n",
       "3  4754    EPX  Travel Agency               Online   \n",
       "4  8840    EPX  Travel Agency               Online   \n",
       "\n",
       "                      Product Name  Duration  Destination  Net Sales  \\\n",
       "0                Cancellation Plan        61  PHILIPPINES       12.0   \n",
       "1                Cancellation Plan         4     MALAYSIA       17.0   \n",
       "2  Rental Vehicle Excess Insurance        26     THAILAND       19.8   \n",
       "3         2 way Comprehensive Plan        15    HONG KONG       27.0   \n",
       "4         2 way Comprehensive Plan        15     MALAYSIA       37.0   \n",
       "\n",
       "   Commision (in value)  Age  Claim  \n",
       "0                  0.00   41      0  \n",
       "1                  0.00   35      0  \n",
       "2                 11.88   47      0  \n",
       "3                  0.00   48      0  \n",
       "4                  0.00   36      0  "
      ]
     },
     "execution_count": 3,
     "metadata": {},
     "output_type": "execute_result"
    }
   ],
   "source": [
    "data=pd.read_csv(\"Data/train.csv\")\n",
    "data.head()"
   ]
  },
  {
   "cell_type": "markdown",
   "metadata": {},
   "source": [
    "## Inspect Data"
   ]
  },
  {
   "cell_type": "code",
   "execution_count": 3,
   "metadata": {},
   "outputs": [
    {
     "name": "stdout",
     "output_type": "stream",
     "text": [
      "<class 'pandas.core.frame.DataFrame'>\n",
      "RangeIndex: 52310 entries, 0 to 52309\n",
      "Data columns (total 11 columns):\n",
      "ID                      52310 non-null int64\n",
      "Agency                  52310 non-null object\n",
      "Agency Type             52310 non-null object\n",
      "Distribution Channel    52310 non-null object\n",
      "Product Name            52310 non-null object\n",
      "Duration                52310 non-null int64\n",
      "Destination             52310 non-null object\n",
      "Net Sales               52310 non-null float64\n",
      "Commision (in value)    52310 non-null float64\n",
      "Age                     52310 non-null int64\n",
      "Claim                   52310 non-null int64\n",
      "dtypes: float64(2), int64(4), object(5)\n",
      "memory usage: 4.4+ MB\n"
     ]
    }
   ],
   "source": [
    "# Columns Datatypes\n",
    "data.info()"
   ]
  },
  {
   "cell_type": "code",
   "execution_count": 4,
   "metadata": {},
   "outputs": [
    {
     "data": {
      "text/html": [
       "<div>\n",
       "<style scoped>\n",
       "    .dataframe tbody tr th:only-of-type {\n",
       "        vertical-align: middle;\n",
       "    }\n",
       "\n",
       "    .dataframe tbody tr th {\n",
       "        vertical-align: top;\n",
       "    }\n",
       "\n",
       "    .dataframe thead th {\n",
       "        text-align: right;\n",
       "    }\n",
       "</style>\n",
       "<table border=\"1\" class=\"dataframe\">\n",
       "  <thead>\n",
       "    <tr style=\"text-align: right;\">\n",
       "      <th></th>\n",
       "      <th>ID</th>\n",
       "      <th>Duration</th>\n",
       "      <th>Net Sales</th>\n",
       "      <th>Commision (in value)</th>\n",
       "      <th>Age</th>\n",
       "      <th>Claim</th>\n",
       "    </tr>\n",
       "  </thead>\n",
       "  <tbody>\n",
       "    <tr>\n",
       "      <td>count</td>\n",
       "      <td>52310.000000</td>\n",
       "      <td>52310.000000</td>\n",
       "      <td>52310.000000</td>\n",
       "      <td>52310.000000</td>\n",
       "      <td>52310.000000</td>\n",
       "      <td>52310.000000</td>\n",
       "    </tr>\n",
       "    <tr>\n",
       "      <td>mean</td>\n",
       "      <td>6005.745804</td>\n",
       "      <td>58.256108</td>\n",
       "      <td>48.554673</td>\n",
       "      <td>12.219963</td>\n",
       "      <td>39.555725</td>\n",
       "      <td>0.166699</td>\n",
       "    </tr>\n",
       "    <tr>\n",
       "      <td>std</td>\n",
       "      <td>2306.450475</td>\n",
       "      <td>109.138708</td>\n",
       "      <td>60.198589</td>\n",
       "      <td>22.847645</td>\n",
       "      <td>13.762473</td>\n",
       "      <td>0.372710</td>\n",
       "    </tr>\n",
       "    <tr>\n",
       "      <td>min</td>\n",
       "      <td>2000.000000</td>\n",
       "      <td>-2.000000</td>\n",
       "      <td>-389.000000</td>\n",
       "      <td>0.000000</td>\n",
       "      <td>0.000000</td>\n",
       "      <td>0.000000</td>\n",
       "    </tr>\n",
       "    <tr>\n",
       "      <td>25%</td>\n",
       "      <td>4015.000000</td>\n",
       "      <td>10.000000</td>\n",
       "      <td>19.800000</td>\n",
       "      <td>0.000000</td>\n",
       "      <td>33.000000</td>\n",
       "      <td>0.000000</td>\n",
       "    </tr>\n",
       "    <tr>\n",
       "      <td>50%</td>\n",
       "      <td>6002.000000</td>\n",
       "      <td>24.000000</td>\n",
       "      <td>29.500000</td>\n",
       "      <td>0.000000</td>\n",
       "      <td>36.000000</td>\n",
       "      <td>0.000000</td>\n",
       "    </tr>\n",
       "    <tr>\n",
       "      <td>75%</td>\n",
       "      <td>8004.000000</td>\n",
       "      <td>57.000000</td>\n",
       "      <td>55.000000</td>\n",
       "      <td>13.380000</td>\n",
       "      <td>43.000000</td>\n",
       "      <td>0.000000</td>\n",
       "    </tr>\n",
       "    <tr>\n",
       "      <td>max</td>\n",
       "      <td>10000.000000</td>\n",
       "      <td>4881.000000</td>\n",
       "      <td>682.000000</td>\n",
       "      <td>262.760000</td>\n",
       "      <td>118.000000</td>\n",
       "      <td>1.000000</td>\n",
       "    </tr>\n",
       "  </tbody>\n",
       "</table>\n",
       "</div>"
      ],
      "text/plain": [
       "                 ID      Duration     Net Sales  Commision (in value)  \\\n",
       "count  52310.000000  52310.000000  52310.000000          52310.000000   \n",
       "mean    6005.745804     58.256108     48.554673             12.219963   \n",
       "std     2306.450475    109.138708     60.198589             22.847645   \n",
       "min     2000.000000     -2.000000   -389.000000              0.000000   \n",
       "25%     4015.000000     10.000000     19.800000              0.000000   \n",
       "50%     6002.000000     24.000000     29.500000              0.000000   \n",
       "75%     8004.000000     57.000000     55.000000             13.380000   \n",
       "max    10000.000000   4881.000000    682.000000            262.760000   \n",
       "\n",
       "                Age         Claim  \n",
       "count  52310.000000  52310.000000  \n",
       "mean      39.555725      0.166699  \n",
       "std       13.762473      0.372710  \n",
       "min        0.000000      0.000000  \n",
       "25%       33.000000      0.000000  \n",
       "50%       36.000000      0.000000  \n",
       "75%       43.000000      0.000000  \n",
       "max      118.000000      1.000000  "
      ]
     },
     "execution_count": 4,
     "metadata": {},
     "output_type": "execute_result"
    }
   ],
   "source": [
    "# Numerical Columns\n",
    "data.describe(exclude='object')"
   ]
  },
  {
   "cell_type": "code",
   "execution_count": 5,
   "metadata": {},
   "outputs": [
    {
     "data": {
      "text/html": [
       "<div>\n",
       "<style scoped>\n",
       "    .dataframe tbody tr th:only-of-type {\n",
       "        vertical-align: middle;\n",
       "    }\n",
       "\n",
       "    .dataframe tbody tr th {\n",
       "        vertical-align: top;\n",
       "    }\n",
       "\n",
       "    .dataframe thead th {\n",
       "        text-align: right;\n",
       "    }\n",
       "</style>\n",
       "<table border=\"1\" class=\"dataframe\">\n",
       "  <thead>\n",
       "    <tr style=\"text-align: right;\">\n",
       "      <th></th>\n",
       "      <th>Agency</th>\n",
       "      <th>Agency Type</th>\n",
       "      <th>Distribution Channel</th>\n",
       "      <th>Product Name</th>\n",
       "      <th>Destination</th>\n",
       "    </tr>\n",
       "  </thead>\n",
       "  <tbody>\n",
       "    <tr>\n",
       "      <td>count</td>\n",
       "      <td>52310</td>\n",
       "      <td>52310</td>\n",
       "      <td>52310</td>\n",
       "      <td>52310</td>\n",
       "      <td>52310</td>\n",
       "    </tr>\n",
       "    <tr>\n",
       "      <td>unique</td>\n",
       "      <td>16</td>\n",
       "      <td>2</td>\n",
       "      <td>2</td>\n",
       "      <td>25</td>\n",
       "      <td>97</td>\n",
       "    </tr>\n",
       "    <tr>\n",
       "      <td>top</td>\n",
       "      <td>EPX</td>\n",
       "      <td>Travel Agency</td>\n",
       "      <td>Online</td>\n",
       "      <td>Cancellation Plan</td>\n",
       "      <td>SINGAPORE</td>\n",
       "    </tr>\n",
       "    <tr>\n",
       "      <td>freq</td>\n",
       "      <td>26218</td>\n",
       "      <td>34996</td>\n",
       "      <td>51419</td>\n",
       "      <td>13254</td>\n",
       "      <td>14242</td>\n",
       "    </tr>\n",
       "  </tbody>\n",
       "</table>\n",
       "</div>"
      ],
      "text/plain": [
       "       Agency    Agency Type Distribution Channel       Product Name  \\\n",
       "count   52310          52310                52310              52310   \n",
       "unique     16              2                    2                 25   \n",
       "top       EPX  Travel Agency               Online  Cancellation Plan   \n",
       "freq    26218          34996                51419              13254   \n",
       "\n",
       "       Destination  \n",
       "count        52310  \n",
       "unique          97  \n",
       "top      SINGAPORE  \n",
       "freq         14242  "
      ]
     },
     "execution_count": 5,
     "metadata": {},
     "output_type": "execute_result"
    }
   ],
   "source": [
    "# Categorical Columns\n",
    "data.describe(include='object')"
   ]
  },
  {
   "cell_type": "markdown",
   "metadata": {},
   "source": [
    "#### Check all numerical datatype columns unique values whether converting numerical datatype to categorical datatype "
   ]
  },
  {
   "cell_type": "code",
   "execution_count": 6,
   "metadata": {},
   "outputs": [
    {
     "name": "stdout",
     "output_type": "stream",
     "text": [
      "ID : 7992\n",
      "Duration : 439\n",
      "Net Sales : 6700\n",
      "Commision (in value) : 5101\n",
      "Age : 99\n",
      "Claim : 2\n"
     ]
    }
   ],
   "source": [
    "# No of Unique Value in Numerical Columns\n",
    "for i in data.describe(exclude='object').columns:\n",
    "    print(f'{i} : {data[i].nunique()}')"
   ]
  },
  {
   "cell_type": "markdown",
   "metadata": {},
   "source": [
    "## Basic Data Cleaning"
   ]
  },
  {
   "cell_type": "code",
   "execution_count": 7,
   "metadata": {},
   "outputs": [],
   "source": [
    "# drop ID column in dataset\n",
    "data.drop(columns='ID',inplace=True)"
   ]
  },
  {
   "cell_type": "markdown",
   "metadata": {},
   "source": [
    "Convert Claim feature and All categorical feature into category data type"
   ]
  },
  {
   "cell_type": "code",
   "execution_count": 8,
   "metadata": {},
   "outputs": [],
   "source": [
    "category_columns=list(data.describe(include='object').columns)"
   ]
  },
  {
   "cell_type": "code",
   "execution_count": 9,
   "metadata": {},
   "outputs": [],
   "source": [
    "category_columns.append('Claim')"
   ]
  },
  {
   "cell_type": "code",
   "execution_count": 10,
   "metadata": {},
   "outputs": [
    {
     "data": {
      "text/plain": [
       "['Agency',\n",
       " 'Agency Type',\n",
       " 'Distribution Channel',\n",
       " 'Product Name',\n",
       " 'Destination',\n",
       " 'Claim']"
      ]
     },
     "execution_count": 10,
     "metadata": {},
     "output_type": "execute_result"
    }
   ],
   "source": [
    "category_columns"
   ]
  },
  {
   "cell_type": "code",
   "execution_count": 11,
   "metadata": {},
   "outputs": [],
   "source": [
    "def dtype_cat(df,col_list):\n",
    "    for i in col_list:\n",
    "        df[i]=df[i].astype('category')"
   ]
  },
  {
   "cell_type": "code",
   "execution_count": 12,
   "metadata": {},
   "outputs": [],
   "source": [
    "dtype_cat(data,category_columns)"
   ]
  },
  {
   "cell_type": "code",
   "execution_count": 13,
   "metadata": {},
   "outputs": [
    {
     "name": "stdout",
     "output_type": "stream",
     "text": [
      "<class 'pandas.core.frame.DataFrame'>\n",
      "RangeIndex: 52310 entries, 0 to 52309\n",
      "Data columns (total 10 columns):\n",
      "Agency                  52310 non-null category\n",
      "Agency Type             52310 non-null category\n",
      "Distribution Channel    52310 non-null category\n",
      "Product Name            52310 non-null category\n",
      "Duration                52310 non-null int64\n",
      "Destination             52310 non-null category\n",
      "Net Sales               52310 non-null float64\n",
      "Commision (in value)    52310 non-null float64\n",
      "Age                     52310 non-null int64\n",
      "Claim                   52310 non-null category\n",
      "dtypes: category(6), float64(2), int64(2)\n",
      "memory usage: 1.9 MB\n"
     ]
    }
   ],
   "source": [
    "data.info()"
   ]
  },
  {
   "cell_type": "markdown",
   "metadata": {},
   "source": [
    "## EDA"
   ]
  },
  {
   "cell_type": "markdown",
   "metadata": {},
   "source": [
    "### Univariate Analysis"
   ]
  },
  {
   "cell_type": "code",
   "execution_count": 14,
   "metadata": {},
   "outputs": [],
   "source": [
    "num_col=data.describe(exclude='category').columns"
   ]
  },
  {
   "cell_type": "markdown",
   "metadata": {},
   "source": [
    "#### Univariate analysis on Numerical Column\n",
    "after performing univariate analysis on numerical columns we can find distribution of data using histrogram and find outliers using boxplot"
   ]
  },
  {
   "cell_type": "code",
   "execution_count": 15,
   "metadata": {},
   "outputs": [],
   "source": [
    "def num_bivariate(df,col):\n",
    "    mean=df[col].mean()\n",
    "    median=df[col].median()\n",
    "    Q1=np.nanpercentile(df[col],0.25)\n",
    "    Q3=np.nanpercentile(df[col],0.75)\n",
    "    min=df[col].min()\n",
    "    max=df[col].max()\n",
    "\n",
    "    Skewness=skew(df[col])\n",
    "    Kurtosis=kurtosis(df[col])\n",
    "    Shapiro=shapiro(df[col])\n",
    "    #z_statistics,p=normaltest(df[col])\n",
    "    normality_test=normaltest(df[col])\n",
    "    # if p<0.05:\n",
    "    #     normality_test='reject null hypothesis (H0). not normaly distributed' # not normaly distributed\n",
    "    # else:\n",
    "    #     normality_test='faild to reject null hypothesis (H0) assume alternate hypothesis (H1). correct normaly distributed' # normaly distributed\n",
    "    \n",
    "    print('Column Name : {}'.format(col))\n",
    "    print('Mean : {}'.format(mean))\n",
    "    print('Median : {}'.format(median))\n",
    "    print('Quartile 1 : {}'.format(Q1))\n",
    "    print('Quartile 3 : {}'.format(Q3))\n",
    "    print('Minimun : {}'.format(min))\n",
    "    print('Maximum : {}'.format(max))\n",
    "    print('Skewness : {}'.format(Skewness))\n",
    "    print('Kurtosis : {}'.format(Kurtosis))\n",
    "    print('Shapiro : {}'.format(Shapiro))\n",
    "    print('Normality Test : {}'.format(normality_test))\n",
    "\n",
    "    dynamic_bins=int(np.cbrt(len(df[col]))*2)\n",
    "\n",
    "    plt.figure(figsize=(15,8))\n",
    "    sns.distplot(df[col],bins=dynamic_bins)\n",
    "    plt.axvline(mean, color='r', linestyle='--')\n",
    "    plt.axvline(median, color='g', linestyle='-')\n",
    "    plt.show()\n",
    "    plt.figure(figsize=(15,8))\n",
    "    sns.boxplot(df[col])\n",
    "    plt.axvline(mean, color='r', linestyle='--')\n",
    "    plt.axvline(median, color='g', linestyle='-')\n",
    "    plt.show()"
   ]
  },
  {
   "cell_type": "code",
   "execution_count": 16,
   "metadata": {
    "scrolled": false
   },
   "outputs": [
    {
     "name": "stdout",
     "output_type": "stream",
     "text": [
      "Column Name : Duration\n",
      "Mean : 58.2561078187727\n",
      "Median : 24.0\n",
      "Quartile 1 : 1.0\n",
      "Quartile 3 : 1.0\n",
      "Minimun : -2\n",
      "Maximum : 4881\n",
      "Skewness : 15.352083357535523\n",
      "Kurtosis : 600.5460109498088\n",
      "Shapiro : (0.43224626779556274, 0.0)\n",
      "Normality Test : NormaltestResult(statistic=102955.18982399761, pvalue=0.0)\n"
     ]
    },
    {
     "data": {
      "image/png": "[encoded data removed]",
      "text/plain": [
       "<Figure size 1080x576 with 1 Axes>"
      ]
     },
     "metadata": {
      "needs_background": "light"
     },
     "output_type": "display_data"
    },
    {
     "data": {
      "image/png": "[encoded data removed]",
      "text/plain": [
       "<Figure size 1080x576 with 1 Axes>"
      ]
     },
     "metadata": {
      "needs_background": "light"
     },
     "output_type": "display_data"
    },
    {
     "name": "stdout",
     "output_type": "stream",
     "text": [
      "Column Name : Net Sales\n",
      "Mean : 48.55467307386593\n",
      "Median : 29.5\n",
      "Quartile 1 : -69.3\n",
      "Quartile 3 : -25.047775\n",
      "Minimun : -389.0\n",
      "Maximum : 682.0\n",
      "Skewness : 2.8117567073906704\n",
      "Kurtosis : 10.873900849140409\n",
      "Shapiro : (0.6663482189178467, 0.0)\n",
      "Normality Test : NormaltestResult(statistic=31630.638183395648, pvalue=0.0)\n"
     ]
    },
    {
     "data": {
      "image/png": "[encoded data removed]",
      "text/plain": [
       "<Figure size 1080x576 with 1 Axes>"
      ]
     },
     "metadata": {
      "needs_background": "light"
     },
     "output_type": "display_data"
    },
    {
     "data": {
      "image/png": "[encoded data removed]",
      "text/plain": [
       "<Figure size 1080x576 with 1 Axes>"
      ]
     },
     "metadata": {
      "needs_background": "light"
     },
     "output_type": "display_data"
    },
    {
     "name": "stdout",
     "output_type": "stream",
     "text": [
      "Column Name : Commision (in value)\n",
      "Mean : 12.219963276202897\n",
      "Median : 0.0\n",
      "Quartile 1 : 0.0\n",
      "Quartile 3 : 0.0\n",
      "Minimun : 0.0\n",
      "Maximum : 262.76\n",
      "Skewness : 3.5355929571079447\n",
      "Kurtosis : 18.360208138788757\n",
      "Shapiro : (0.5847123861312866, 0.0)\n",
      "Normality Test : NormaltestResult(statistic=39687.0008948467, pvalue=0.0)\n"
     ]
    },
    {
     "data": {
      "image/png": "[encoded data removed]",
      "text/plain": [
       "<Figure size 1080x576 with 1 Axes>"
      ]
     },
     "metadata": {
      "needs_background": "light"
     },
     "output_type": "display_data"
    },
    {
     "data": {
      "image/png": "[encoded data removed]",
      "text/plain": [
       "<Figure size 1080x576 with 1 Axes>"
      ]
     },
     "metadata": {
      "needs_background": "light"
     },
     "output_type": "display_data"
    },
    {
     "name": "stdout",
     "output_type": "stream",
     "text": [
      "Column Name : Age\n",
      "Mean : 39.555725482699295\n",
      "Median : 36.0\n",
      "Quartile 1 : 18.0\n",
      "Quartile 3 : 21.0\n",
      "Minimun : 0\n",
      "Maximum : 118\n",
      "Skewness : 2.9478066507321383\n",
      "Kurtosis : 13.138684218272495\n",
      "Shapiro : (0.7295069694519043, 0.0)\n",
      "Normality Test : NormaltestResult(statistic=33659.25917590532, pvalue=0.0)\n"
     ]
    },
    {
     "data": {
      "image/png": "[encoded data removed]",
      "text/plain": [
       "<Figure size 1080x576 with 1 Axes>"
      ]
     },
     "metadata": {
      "needs_background": "light"
     },
     "output_type": "display_data"
    },
    {
     "data": {
      "image/png": "[encoded data removed]",
      "text/plain": [
       "<Figure size 1080x576 with 1 Axes>"
      ]
     },
     "metadata": {
      "needs_background": "light"
     },
     "output_type": "display_data"
    }
   ],
   "source": [
    "for i in num_col:\n",
    "    num_bivariate(data,i)"
   ]
  },
  {
   "cell_type": "markdown",
   "metadata": {},
   "source": [
    "**observation**\n",
    "- we can see all numerical columns are heavily skewed and this is due to the presence of outliers.\n",
    "- we can handle outliers in the following steps."
   ]
  },
  {
   "cell_type": "markdown",
   "metadata": {},
   "source": [
    "#### Univariate analysis on Categorical Column\n",
    "after performing univariate analysis on numerical columns we can find distribution of data using histrogram and find outliers using boxplot"
   ]
  },
  {
   "cell_type": "code",
   "execution_count": 17,
   "metadata": {},
   "outputs": [],
   "source": [
    "cat_col=data.describe(include='category').columns"
   ]
  },
  {
   "cell_type": "code",
   "execution_count": 18,
   "metadata": {},
   "outputs": [],
   "source": [
    "def cat_univariate(df,col):\n",
    "    fig=plt.figure(figsize=(17,6))\n",
    "    fig.suptitle('Plots of {} column'.format(col))\n",
    "    val_cnt=df[col].value_counts().sort_values(ascending=False)\n",
    "    plt.bar(val_cnt.index,val_cnt)\n",
    "    plt.title('Bar-Graph')\n",
    "    plt.xticks(rotation=90)\n",
    "    fig.show()"
   ]
  },
  {
   "cell_type": "code",
   "execution_count": 19,
   "metadata": {
    "scrolled": false
   },
   "outputs": [
    {
     "data": {
      "image/png": "[encoded data removed]",
      "text/plain": [
       "<Figure size 1224x432 with 1 Axes>"
      ]
     },
     "metadata": {
      "needs_background": "light"
     },
     "output_type": "display_data"
    },
    {
     "data": {
      "image/png": "[encoded data removed]",
      "text/plain": [
       "<Figure size 1224x432 with 1 Axes>"
      ]
     },
     "metadata": {
      "needs_background": "light"
     },
     "output_type": "display_data"
    },
    {
     "data": {
      "image/png": "[encoded data removed]",
      "text/plain": [
       "<Figure size 1224x432 with 1 Axes>"
      ]
     },
     "metadata": {
      "needs_background": "light"
     },
     "output_type": "display_data"
    },
    {
     "data": {
      "image/png": "[encoded data removed]",
      "text/plain": [
       "<Figure size 1224x432 with 1 Axes>"
      ]
     },
     "metadata": {
      "needs_background": "light"
     },
     "output_type": "display_data"
    },
    {
     "data": {
      "image/png": "[encoded data removed]",
      "text/plain": [
       "<Figure size 1224x432 with 1 Axes>"
      ]
     },
     "metadata": {
      "needs_background": "light"
     },
     "output_type": "display_data"
    },
    {
     "data": {
      "image/png": "[encoded data removed]",
      "text/plain": [
       "<Figure size 1224x432 with 1 Axes>"
      ]
     },
     "metadata": {
      "needs_background": "light"
     },
     "output_type": "display_data"
    }
   ],
   "source": [
    "for i in cat_col:\n",
    "    cat_univariate(data,i)"
   ]
  },
  {
   "cell_type": "markdown",
   "metadata": {},
   "source": [
    "**observation**\n",
    "- EPX Agency Count is high in Agency feature\n",
    "- Travel Agency claims are higher than Airlines\n",
    "- Offline Insurance distribution count is very low\n",
    "- Cancelation Plan Insurance Claim is high\n",
    "- Signapur destrination is largest insurance claim country\n",
    "- our target variable Claim approval rate is below 20%"
   ]
  },
  {
   "cell_type": "markdown",
   "metadata": {},
   "source": [
    "## Bivariate Analysis"
   ]
  },
  {
   "cell_type": "markdown",
   "metadata": {},
   "source": [
    "#### Checking Correlation"
   ]
  },
  {
   "cell_type": "code",
   "execution_count": 20,
   "metadata": {},
   "outputs": [
    {
     "data": {
      "text/html": [
       "<div>\n",
       "<style scoped>\n",
       "    .dataframe tbody tr th:only-of-type {\n",
       "        vertical-align: middle;\n",
       "    }\n",
       "\n",
       "    .dataframe tbody tr th {\n",
       "        vertical-align: top;\n",
       "    }\n",
       "\n",
       "    .dataframe thead th {\n",
       "        text-align: right;\n",
       "    }\n",
       "</style>\n",
       "<table border=\"1\" class=\"dataframe\">\n",
       "  <thead>\n",
       "    <tr style=\"text-align: right;\">\n",
       "      <th></th>\n",
       "      <th>Duration</th>\n",
       "      <th>Net Sales</th>\n",
       "      <th>Commision (in value)</th>\n",
       "      <th>Age</th>\n",
       "    </tr>\n",
       "  </thead>\n",
       "  <tbody>\n",
       "    <tr>\n",
       "      <td>Duration</td>\n",
       "      <td>1.000000</td>\n",
       "      <td>0.595261</td>\n",
       "      <td>0.483148</td>\n",
       "      <td>-0.003969</td>\n",
       "    </tr>\n",
       "    <tr>\n",
       "      <td>Net Sales</td>\n",
       "      <td>0.595261</td>\n",
       "      <td>1.000000</td>\n",
       "      <td>0.733110</td>\n",
       "      <td>0.022606</td>\n",
       "    </tr>\n",
       "    <tr>\n",
       "      <td>Commision (in value)</td>\n",
       "      <td>0.483148</td>\n",
       "      <td>0.733110</td>\n",
       "      <td>1.000000</td>\n",
       "      <td>0.087455</td>\n",
       "    </tr>\n",
       "    <tr>\n",
       "      <td>Age</td>\n",
       "      <td>-0.003969</td>\n",
       "      <td>0.022606</td>\n",
       "      <td>0.087455</td>\n",
       "      <td>1.000000</td>\n",
       "    </tr>\n",
       "  </tbody>\n",
       "</table>\n",
       "</div>"
      ],
      "text/plain": [
       "                      Duration  Net Sales  Commision (in value)       Age\n",
       "Duration              1.000000   0.595261              0.483148 -0.003969\n",
       "Net Sales             0.595261   1.000000              0.733110  0.022606\n",
       "Commision (in value)  0.483148   0.733110              1.000000  0.087455\n",
       "Age                  -0.003969   0.022606              0.087455  1.000000"
      ]
     },
     "execution_count": 20,
     "metadata": {},
     "output_type": "execute_result"
    }
   ],
   "source": [
    "# find multi-collinearity in numerical columns\n",
    "data[num_col].corr()"
   ]
  },
  {
   "cell_type": "code",
   "execution_count": 21,
   "metadata": {},
   "outputs": [
    {
     "data": {
      "image/png": "[encoded data removed]",
      "text/plain": [
       "<Figure size 432x288 with 2 Axes>"
      ]
     },
     "metadata": {
      "needs_background": "light"
     },
     "output_type": "display_data"
    }
   ],
   "source": [
    "sns.heatmap(data[num_col].corr(),annot=True)\n",
    "plt.ylim(5.0,0.0)\n",
    "plt.show()"
   ]
  },
  {
   "cell_type": "markdown",
   "metadata": {},
   "source": [
    "**observation**\n",
    "- high correlation between Commision & Net Sales\n",
    "- drop one column"
   ]
  },
  {
   "cell_type": "markdown",
   "metadata": {},
   "source": [
    "#### Check Claim feature according to Product Name"
   ]
  },
  {
   "cell_type": "code",
   "execution_count": 22,
   "metadata": {},
   "outputs": [
    {
     "data": {
      "image/png": "[encoded data removed]",
      "text/plain": [
       "<Figure size 1080x360 with 1 Axes>"
      ]
     },
     "metadata": {
      "needs_background": "light"
     },
     "output_type": "display_data"
    }
   ],
   "source": [
    "data.groupby('Product Name')['Claim'].value_counts().unstack().plot(kind='bar',stacked=True,figsize=(15,5))\n",
    "plt.show()"
   ]
  },
  {
   "cell_type": "markdown",
   "metadata": {},
   "source": [
    "**observation**\n",
    "- Cancellation Plan has overall maximum claims\n",
    "- Approval (1) rate is high on Bronze Plane\n",
    "- Rejection (0) rate is high on Cancellation Plan"
   ]
  },
  {
   "cell_type": "markdown",
   "metadata": {},
   "source": [
    "#### Which Product Policies ammount is high"
   ]
  },
  {
   "cell_type": "code",
   "execution_count": 23,
   "metadata": {},
   "outputs": [
    {
     "data": {
      "image/png": "[encoded data removed]",
      "text/plain": [
       "<Figure size 1080x360 with 1 Axes>"
      ]
     },
     "metadata": {
      "needs_background": "light"
     },
     "output_type": "display_data"
    }
   ],
   "source": [
    "data.groupby('Product Name')['Net Sales'].sum().sort_values(ascending=False).plot(kind='bar',figsize=(15,5))\n",
    "plt.show()"
   ]
  },
  {
   "cell_type": "markdown",
   "metadata": {},
   "source": [
    "**observation**\n",
    "- Annual Silver Plan Net Sales is Maximum\n",
    "- Child Comprehensive Plan Net Sales is Minimum"
   ]
  },
  {
   "cell_type": "markdown",
   "metadata": {},
   "source": [
    "### Multivariate Analysis"
   ]
  },
  {
   "cell_type": "code",
   "execution_count": 7,
   "metadata": {},
   "outputs": [
    {
     "data": {
      "image/png": "[encoded data removed]",
      "text/plain": [
       "<Figure size 1224x1224 with 1 Axes>"
      ]
     },
     "metadata": {
      "needs_background": "light"
     },
     "output_type": "display_data"
    }
   ],
   "source": [
    "plt.figure(figsize=(17,17))\n",
    "d=data.sort_values(\"Net Sales\").reset_index(drop=True)\n",
    "sns.barplot(y=\"Product Name\", x=\"Net Sales\", hue=\"Claim\", data=data, estimator=sum)\n",
    "#d.plot(kind=\"barh\",x=\"Net Sales\",y=\"Product Name\")\n",
    "plt.show()"
   ]
  },
  {
   "cell_type": "code",
   "execution_count": 4,
   "metadata": {},
   "outputs": [
    {
     "data": {
      "image/png": "[encoded data removed]",
      "text/plain": [
       "<Figure size 720x1080 with 1 Axes>"
      ]
     },
     "metadata": {
      "needs_background": "light"
     },
     "output_type": "display_data"
    }
   ],
   "source": [
    "plt.figure(figsize=(10,15))\n",
    "sns.barplot(y=\"Product Name\", x=\"Claim\", data=data, estimator=sum)\n",
    "plt.show()"
   ]
  },
  {
   "cell_type": "markdown",
   "metadata": {},
   "source": [
    "**observation**\n",
    "- Bronze Plan has the highest number of sanctioned claims"
   ]
  },
  {
   "cell_type": "markdown",
   "metadata": {},
   "source": [
    "#### Products with highest Claims aproved\n",
    "- Annual Gold Plan has 58% claims approved\n",
    "- Annual Silver Plan has 61.7% claims approved\n",
    "- Annual Travel Protect Gold has 65.5% claims approved\n",
    "- Bronze Plan has 42.7% Individual\n",
    "- Comprehensive Plan has 44% \n",
    "- Silver Plan has 48% \n",
    "- Single Trip Travel Protect \n",
    "- Gold 48% \n",
    "- Single Trip Travel Protect Platinum 50%"
   ]
  },
  {
   "cell_type": "code",
   "execution_count": 7,
   "metadata": {},
   "outputs": [
    {
     "data": {
      "image/png": "[encoded data removed]",
      "text/plain": [
       "<Figure size 720x1440 with 1 Axes>"
      ]
     },
     "metadata": {
      "needs_background": "light"
     },
     "output_type": "display_data"
    }
   ],
   "source": [
    "s=data[data[\"Claim\"]==1]\n",
    "plt.figure(figsize=(10,20))\n",
    "a=pd.DataFrame((s[\"Destination\"].value_counts()).nlargest(15))\n",
    "sns.countplot(y=\"Destination\",data=s)\n",
    "plt.show()"
   ]
  },
  {
   "cell_type": "markdown",
   "metadata": {},
   "source": [
    "**observation**\n",
    "- Asia has the highest number of claims. \n",
    "- Singapore is the leading Destination is claims."
   ]
  },
  {
   "cell_type": "markdown",
   "metadata": {},
   "source": [
    "## Check data is imbalance or not"
   ]
  },
  {
   "cell_type": "code",
   "execution_count": 24,
   "metadata": {},
   "outputs": [
    {
     "data": {
      "image/png": "[encoded data removed]",
      "text/plain": [
       "<Figure size 432x288 with 1 Axes>"
      ]
     },
     "metadata": {},
     "output_type": "display_data"
    }
   ],
   "source": [
    "plt.pie(data['Claim'].value_counts(),labels=[0,1],autopct='%2.2f')\n",
    "plt.show()"
   ]
  },
  {
   "cell_type": "markdown",
   "metadata": {},
   "source": [
    "**observation**\n",
    "- data is imbalance\n",
    "- we need to resample our train data for improve model performance"
   ]
  },
  {
   "cell_type": "markdown",
   "metadata": {},
   "source": [
    "# Vanilla Method\n",
    "Apply several machnine learning model to data without any data modification"
   ]
  },
  {
   "cell_type": "code",
   "execution_count": 25,
   "metadata": {},
   "outputs": [
    {
     "data": {
      "text/plain": [
       "(52310, 142)"
      ]
     },
     "execution_count": 25,
     "metadata": {},
     "output_type": "execute_result"
    }
   ],
   "source": [
    "# Apply get dummies on data\n",
    "data=pd.get_dummies(data,columns=['Agency', 'Agency Type', 'Distribution Channel', 'Product Name','Destination'],drop_first=True)\n",
    "data.shape"
   ]
  },
  {
   "cell_type": "code",
   "execution_count": 26,
   "metadata": {},
   "outputs": [],
   "source": [
    "# Split data to Independent Variable and Dependent Variable\n",
    "X=data.drop(columns='Claim')\n",
    "y=data['Claim']"
   ]
  },
  {
   "cell_type": "code",
   "execution_count": 27,
   "metadata": {},
   "outputs": [],
   "source": [
    "# Create training data nd testing data\n",
    "X_train,X_test,y_train,y_test=train_test_split(X,y,random_state=0,train_size=0.7)"
   ]
  },
  {
   "cell_type": "code",
   "execution_count": 28,
   "metadata": {},
   "outputs": [
    {
     "data": {
      "text/html": [
       "<div>\n",
       "<style scoped>\n",
       "    .dataframe tbody tr th:only-of-type {\n",
       "        vertical-align: middle;\n",
       "    }\n",
       "\n",
       "    .dataframe tbody tr th {\n",
       "        vertical-align: top;\n",
       "    }\n",
       "\n",
       "    .dataframe thead th {\n",
       "        text-align: right;\n",
       "    }\n",
       "</style>\n",
       "<table border=\"1\" class=\"dataframe\">\n",
       "  <thead>\n",
       "    <tr style=\"text-align: right;\">\n",
       "      <th></th>\n",
       "      <th>Duration</th>\n",
       "      <th>Net Sales</th>\n",
       "      <th>Commision (in value)</th>\n",
       "      <th>Age</th>\n",
       "      <th>Agency_ART</th>\n",
       "      <th>Agency_C2B</th>\n",
       "      <th>Agency_CBH</th>\n",
       "      <th>Agency_CCR</th>\n",
       "      <th>Agency_CSR</th>\n",
       "      <th>Agency_CWT</th>\n",
       "      <th>...</th>\n",
       "      <th>Destination_TURKMENISTAN</th>\n",
       "      <th>Destination_UKRAINE</th>\n",
       "      <th>Destination_UNITED ARAB EMIRATES</th>\n",
       "      <th>Destination_UNITED KINGDOM</th>\n",
       "      <th>Destination_UNITED STATES</th>\n",
       "      <th>Destination_UZBEKISTAN</th>\n",
       "      <th>Destination_VANUATU</th>\n",
       "      <th>Destination_VENEZUELA</th>\n",
       "      <th>Destination_VIET NAM</th>\n",
       "      <th>Destination_ZAMBIA</th>\n",
       "    </tr>\n",
       "  </thead>\n",
       "  <tbody>\n",
       "    <tr>\n",
       "      <td>6218</td>\n",
       "      <td>46</td>\n",
       "      <td>10.0</td>\n",
       "      <td>0.0</td>\n",
       "      <td>35</td>\n",
       "      <td>0</td>\n",
       "      <td>0</td>\n",
       "      <td>0</td>\n",
       "      <td>0</td>\n",
       "      <td>0</td>\n",
       "      <td>0</td>\n",
       "      <td>...</td>\n",
       "      <td>0</td>\n",
       "      <td>0</td>\n",
       "      <td>0</td>\n",
       "      <td>0</td>\n",
       "      <td>0</td>\n",
       "      <td>0</td>\n",
       "      <td>0</td>\n",
       "      <td>0</td>\n",
       "      <td>0</td>\n",
       "      <td>0</td>\n",
       "    </tr>\n",
       "    <tr>\n",
       "      <td>6316</td>\n",
       "      <td>38</td>\n",
       "      <td>16.0</td>\n",
       "      <td>4.0</td>\n",
       "      <td>19</td>\n",
       "      <td>0</td>\n",
       "      <td>1</td>\n",
       "      <td>0</td>\n",
       "      <td>0</td>\n",
       "      <td>0</td>\n",
       "      <td>0</td>\n",
       "      <td>...</td>\n",
       "      <td>0</td>\n",
       "      <td>0</td>\n",
       "      <td>0</td>\n",
       "      <td>0</td>\n",
       "      <td>0</td>\n",
       "      <td>0</td>\n",
       "      <td>0</td>\n",
       "      <td>0</td>\n",
       "      <td>0</td>\n",
       "      <td>0</td>\n",
       "    </tr>\n",
       "    <tr>\n",
       "      <td>17271</td>\n",
       "      <td>76</td>\n",
       "      <td>33.0</td>\n",
       "      <td>0.0</td>\n",
       "      <td>36</td>\n",
       "      <td>0</td>\n",
       "      <td>0</td>\n",
       "      <td>0</td>\n",
       "      <td>0</td>\n",
       "      <td>0</td>\n",
       "      <td>0</td>\n",
       "      <td>...</td>\n",
       "      <td>0</td>\n",
       "      <td>0</td>\n",
       "      <td>0</td>\n",
       "      <td>0</td>\n",
       "      <td>0</td>\n",
       "      <td>0</td>\n",
       "      <td>0</td>\n",
       "      <td>0</td>\n",
       "      <td>0</td>\n",
       "      <td>0</td>\n",
       "    </tr>\n",
       "    <tr>\n",
       "      <td>32688</td>\n",
       "      <td>62</td>\n",
       "      <td>12.0</td>\n",
       "      <td>0.0</td>\n",
       "      <td>36</td>\n",
       "      <td>0</td>\n",
       "      <td>0</td>\n",
       "      <td>0</td>\n",
       "      <td>0</td>\n",
       "      <td>0</td>\n",
       "      <td>0</td>\n",
       "      <td>...</td>\n",
       "      <td>0</td>\n",
       "      <td>0</td>\n",
       "      <td>0</td>\n",
       "      <td>0</td>\n",
       "      <td>0</td>\n",
       "      <td>0</td>\n",
       "      <td>0</td>\n",
       "      <td>0</td>\n",
       "      <td>0</td>\n",
       "      <td>0</td>\n",
       "    </tr>\n",
       "    <tr>\n",
       "      <td>29068</td>\n",
       "      <td>116</td>\n",
       "      <td>120.0</td>\n",
       "      <td>0.0</td>\n",
       "      <td>36</td>\n",
       "      <td>0</td>\n",
       "      <td>0</td>\n",
       "      <td>0</td>\n",
       "      <td>0</td>\n",
       "      <td>0</td>\n",
       "      <td>0</td>\n",
       "      <td>...</td>\n",
       "      <td>0</td>\n",
       "      <td>0</td>\n",
       "      <td>0</td>\n",
       "      <td>0</td>\n",
       "      <td>0</td>\n",
       "      <td>0</td>\n",
       "      <td>0</td>\n",
       "      <td>0</td>\n",
       "      <td>0</td>\n",
       "      <td>0</td>\n",
       "    </tr>\n",
       "  </tbody>\n",
       "</table>\n",
       "<p>5 rows × 141 columns</p>\n",
       "</div>"
      ],
      "text/plain": [
       "       Duration  Net Sales  Commision (in value)  Age  Agency_ART  Agency_C2B  \\\n",
       "6218         46       10.0                   0.0   35           0           0   \n",
       "6316         38       16.0                   4.0   19           0           1   \n",
       "17271        76       33.0                   0.0   36           0           0   \n",
       "32688        62       12.0                   0.0   36           0           0   \n",
       "29068       116      120.0                   0.0   36           0           0   \n",
       "\n",
       "       Agency_CBH  Agency_CCR  Agency_CSR  Agency_CWT  ...  \\\n",
       "6218            0           0           0           0  ...   \n",
       "6316            0           0           0           0  ...   \n",
       "17271           0           0           0           0  ...   \n",
       "32688           0           0           0           0  ...   \n",
       "29068           0           0           0           0  ...   \n",
       "\n",
       "       Destination_TURKMENISTAN  Destination_UKRAINE  \\\n",
       "6218                          0                    0   \n",
       "6316                          0                    0   \n",
       "17271                         0                    0   \n",
       "32688                         0                    0   \n",
       "29068                         0                    0   \n",
       "\n",
       "       Destination_UNITED ARAB EMIRATES  Destination_UNITED KINGDOM  \\\n",
       "6218                                  0                           0   \n",
       "6316                                  0                           0   \n",
       "17271                                 0                           0   \n",
       "32688                                 0                           0   \n",
       "29068                                 0                           0   \n",
       "\n",
       "       Destination_UNITED STATES  Destination_UZBEKISTAN  Destination_VANUATU  \\\n",
       "6218                           0                       0                    0   \n",
       "6316                           0                       0                    0   \n",
       "17271                          0                       0                    0   \n",
       "32688                          0                       0                    0   \n",
       "29068                          0                       0                    0   \n",
       "\n",
       "       Destination_VENEZUELA  Destination_VIET NAM  Destination_ZAMBIA  \n",
       "6218                       0                     0                   0  \n",
       "6316                       0                     0                   0  \n",
       "17271                      0                     0                   0  \n",
       "32688                      0                     0                   0  \n",
       "29068                      0                     0                   0  \n",
       "\n",
       "[5 rows x 141 columns]"
      ]
     },
     "execution_count": 28,
     "metadata": {},
     "output_type": "execute_result"
    }
   ],
   "source": [
    "X_train.head()"
   ]
  },
  {
   "cell_type": "markdown",
   "metadata": {},
   "source": [
    "### Model Training"
   ]
  },
  {
   "cell_type": "code",
   "execution_count": 29,
   "metadata": {},
   "outputs": [],
   "source": [
    "# Initialize Models\n",
    "lr=LogisticRegression()\n",
    "dt=DecisionTreeClassifier()\n",
    "edt=ExtraTreesClassifier()\n",
    "rf=RandomForestClassifier()\n",
    "vc_hard=VotingClassifier(estimators=[('rf',rf),('lr',lr)])\n",
    "vc_soft=VotingClassifier(estimators=[('rf',rf),('lr',lr)],voting='soft')\n",
    "gbc=GradientBoostingClassifier()\n",
    "xgb=XGBClassifier()"
   ]
  },
  {
   "cell_type": "code",
   "execution_count": 30,
   "metadata": {},
   "outputs": [],
   "source": [
    "models={\n",
    "    lr:'LogisticRegression',\n",
    "    dt:'DecisionTreeClassifier',\n",
    "    edt:'ExtraTreesClassifier',\n",
    "    rf:'RandomForestClassifier',\n",
    "    vc_hard:'VotingClassifier-Hard',\n",
    "    vc_soft:'VotingClassifier-Soft',\n",
    "    gbc:'GradientBoostingClassifier',\n",
    "    xgb:'XGBClassifier'\n",
    "}"
   ]
  },
  {
   "cell_type": "code",
   "execution_count": 31,
   "metadata": {},
   "outputs": [],
   "source": [
    "def model_train(model_dict,X_train,X_test,y_train,y_test):\n",
    "    result=[]\n",
    "    for model in model_dict:\n",
    "        result_dict={}\n",
    "        model.fit(X_train,y_train)\n",
    "        y_pred=model.predict(X_test)\n",
    "        result_dict['Model']=model_dict[model]\n",
    "        result_dict['Precision Score']=precision_score(y_test,y_pred)\n",
    "        result_dict['Recall Score']=recall_score(y_test,y_pred)\n",
    "        result_dict['Accuracy Score']=accuracy_score(y_test,y_pred)\n",
    "        result_dict['F1 Score']=f1_score(y_test,y_pred)\n",
    "        result.append(result_dict)\n",
    "    return pd.DataFrame(result)"
   ]
  },
  {
   "cell_type": "code",
   "execution_count": 32,
   "metadata": {},
   "outputs": [
    {
     "data": {
      "text/html": [
       "<div>\n",
       "<style scoped>\n",
       "    .dataframe tbody tr th:only-of-type {\n",
       "        vertical-align: middle;\n",
       "    }\n",
       "\n",
       "    .dataframe tbody tr th {\n",
       "        vertical-align: top;\n",
       "    }\n",
       "\n",
       "    .dataframe thead th {\n",
       "        text-align: right;\n",
       "    }\n",
       "</style>\n",
       "<table border=\"1\" class=\"dataframe\">\n",
       "  <thead>\n",
       "    <tr style=\"text-align: right;\">\n",
       "      <th></th>\n",
       "      <th>Model</th>\n",
       "      <th>Precision Score</th>\n",
       "      <th>Recall Score</th>\n",
       "      <th>Accuracy Score</th>\n",
       "      <th>F1 Score</th>\n",
       "    </tr>\n",
       "  </thead>\n",
       "  <tbody>\n",
       "    <tr>\n",
       "      <td>0</td>\n",
       "      <td>LogisticRegression</td>\n",
       "      <td>0.610130</td>\n",
       "      <td>0.304132</td>\n",
       "      <td>0.851717</td>\n",
       "      <td>0.405923</td>\n",
       "    </tr>\n",
       "    <tr>\n",
       "      <td>1</td>\n",
       "      <td>DecisionTreeClassifier</td>\n",
       "      <td>0.736162</td>\n",
       "      <td>0.763198</td>\n",
       "      <td>0.914994</td>\n",
       "      <td>0.749437</td>\n",
       "    </tr>\n",
       "    <tr>\n",
       "      <td>2</td>\n",
       "      <td>ExtraTreesClassifier</td>\n",
       "      <td>0.815342</td>\n",
       "      <td>0.788829</td>\n",
       "      <td>0.935067</td>\n",
       "      <td>0.801867</td>\n",
       "    </tr>\n",
       "    <tr>\n",
       "      <td>3</td>\n",
       "      <td>RandomForestClassifier</td>\n",
       "      <td>0.823813</td>\n",
       "      <td>0.783474</td>\n",
       "      <td>0.936022</td>\n",
       "      <td>0.803137</td>\n",
       "    </tr>\n",
       "    <tr>\n",
       "      <td>4</td>\n",
       "      <td>VotingClassifier-Hard</td>\n",
       "      <td>0.808824</td>\n",
       "      <td>0.273527</td>\n",
       "      <td>0.868222</td>\n",
       "      <td>0.408805</td>\n",
       "    </tr>\n",
       "    <tr>\n",
       "      <td>5</td>\n",
       "      <td>VotingClassifier-Soft</td>\n",
       "      <td>0.823500</td>\n",
       "      <td>0.635425</td>\n",
       "      <td>0.916587</td>\n",
       "      <td>0.717340</td>\n",
       "    </tr>\n",
       "    <tr>\n",
       "      <td>6</td>\n",
       "      <td>GradientBoostingClassifier</td>\n",
       "      <td>0.640496</td>\n",
       "      <td>0.415073</td>\n",
       "      <td>0.863761</td>\n",
       "      <td>0.503714</td>\n",
       "    </tr>\n",
       "    <tr>\n",
       "      <td>7</td>\n",
       "      <td>XGBClassifier</td>\n",
       "      <td>0.787495</td>\n",
       "      <td>0.688982</td>\n",
       "      <td>0.917224</td>\n",
       "      <td>0.734952</td>\n",
       "    </tr>\n",
       "  </tbody>\n",
       "</table>\n",
       "</div>"
      ],
      "text/plain": [
       "                        Model  Precision Score  Recall Score  Accuracy Score  \\\n",
       "0          LogisticRegression         0.610130      0.304132        0.851717   \n",
       "1      DecisionTreeClassifier         0.736162      0.763198        0.914994   \n",
       "2        ExtraTreesClassifier         0.815342      0.788829        0.935067   \n",
       "3      RandomForestClassifier         0.823813      0.783474        0.936022   \n",
       "4       VotingClassifier-Hard         0.808824      0.273527        0.868222   \n",
       "5       VotingClassifier-Soft         0.823500      0.635425        0.916587   \n",
       "6  GradientBoostingClassifier         0.640496      0.415073        0.863761   \n",
       "7               XGBClassifier         0.787495      0.688982        0.917224   \n",
       "\n",
       "   F1 Score  \n",
       "0  0.405923  \n",
       "1  0.749437  \n",
       "2  0.801867  \n",
       "3  0.803137  \n",
       "4  0.408805  \n",
       "5  0.717340  \n",
       "6  0.503714  \n",
       "7  0.734952  "
      ]
     },
     "execution_count": 32,
     "metadata": {},
     "output_type": "execute_result"
    }
   ],
   "source": [
    "vanila_result=model_train(models,X_train,X_test,y_train,y_test)\n",
    "vanila_result"
   ]
  },
  {
   "cell_type": "markdown",
   "metadata": {},
   "source": [
    "**obervation**\n",
    "- ensemble models score is high compare to other models\n",
    "- check our observation after handeling imbalance data, outliers and doing some feature engineering"
   ]
  },
  {
   "cell_type": "markdown",
   "metadata": {},
   "source": [
    "# Feature Engineering"
   ]
  },
  {
   "cell_type": "markdown",
   "metadata": {},
   "source": [
    "## 1. Handle Imbalance Data"
   ]
  },
  {
   "cell_type": "markdown",
   "metadata": {},
   "source": [
    "### Upsampling\n",
    "we use two types of upsampling libraries(SMOTETomek,RandomOverSampler) on vanilla method data."
   ]
  },
  {
   "cell_type": "markdown",
   "metadata": {},
   "source": [
    "#### SMOTETomek"
   ]
  },
  {
   "cell_type": "code",
   "execution_count": 33,
   "metadata": {},
   "outputs": [
    {
     "data": {
      "text/plain": [
       "((60462, 141), (60462,))"
      ]
     },
     "execution_count": 33,
     "metadata": {},
     "output_type": "execute_result"
    }
   ],
   "source": [
    "smk=SMOTETomek(random_state=0)\n",
    "X_train_smk,y_train_smk=smk.fit_sample(X_train,y_train)\n",
    "X_train_smk.shape,y_train_smk.shape"
   ]
  },
  {
   "cell_type": "code",
   "execution_count": 34,
   "metadata": {
    "scrolled": true
   },
   "outputs": [
    {
     "data": {
      "text/html": [
       "<div>\n",
       "<style scoped>\n",
       "    .dataframe tbody tr th:only-of-type {\n",
       "        vertical-align: middle;\n",
       "    }\n",
       "\n",
       "    .dataframe tbody tr th {\n",
       "        vertical-align: top;\n",
       "    }\n",
       "\n",
       "    .dataframe thead th {\n",
       "        text-align: right;\n",
       "    }\n",
       "</style>\n",
       "<table border=\"1\" class=\"dataframe\">\n",
       "  <thead>\n",
       "    <tr style=\"text-align: right;\">\n",
       "      <th></th>\n",
       "      <th>Model</th>\n",
       "      <th>Precision Score</th>\n",
       "      <th>Recall Score</th>\n",
       "      <th>Accuracy Score</th>\n",
       "      <th>F1 Score</th>\n",
       "    </tr>\n",
       "  </thead>\n",
       "  <tbody>\n",
       "    <tr>\n",
       "      <td>0</td>\n",
       "      <td>LogisticRegression</td>\n",
       "      <td>0.411345</td>\n",
       "      <td>0.771232</td>\n",
       "      <td>0.778054</td>\n",
       "      <td>0.536527</td>\n",
       "    </tr>\n",
       "    <tr>\n",
       "      <td>1</td>\n",
       "      <td>DecisionTreeClassifier</td>\n",
       "      <td>0.719316</td>\n",
       "      <td>0.820581</td>\n",
       "      <td>0.916778</td>\n",
       "      <td>0.766619</td>\n",
       "    </tr>\n",
       "    <tr>\n",
       "      <td>2</td>\n",
       "      <td>ExtraTreesClassifier</td>\n",
       "      <td>0.773315</td>\n",
       "      <td>0.846978</td>\n",
       "      <td>0.933155</td>\n",
       "      <td>0.808472</td>\n",
       "    </tr>\n",
       "    <tr>\n",
       "      <td>3</td>\n",
       "      <td>RandomForestClassifier</td>\n",
       "      <td>0.771300</td>\n",
       "      <td>0.855394</td>\n",
       "      <td>0.933665</td>\n",
       "      <td>0.811174</td>\n",
       "    </tr>\n",
       "    <tr>\n",
       "      <td>4</td>\n",
       "      <td>VotingClassifier-Hard</td>\n",
       "      <td>0.777162</td>\n",
       "      <td>0.697781</td>\n",
       "      <td>0.916332</td>\n",
       "      <td>0.735336</td>\n",
       "    </tr>\n",
       "    <tr>\n",
       "      <td>5</td>\n",
       "      <td>VotingClassifier-Soft</td>\n",
       "      <td>0.656323</td>\n",
       "      <td>0.865723</td>\n",
       "      <td>0.902122</td>\n",
       "      <td>0.746618</td>\n",
       "    </tr>\n",
       "    <tr>\n",
       "      <td>6</td>\n",
       "      <td>GradientBoostingClassifier</td>\n",
       "      <td>0.436805</td>\n",
       "      <td>0.811783</td>\n",
       "      <td>0.794303</td>\n",
       "      <td>0.567987</td>\n",
       "    </tr>\n",
       "    <tr>\n",
       "      <td>7</td>\n",
       "      <td>XGBClassifier</td>\n",
       "      <td>0.568744</td>\n",
       "      <td>0.879878</td>\n",
       "      <td>0.868859</td>\n",
       "      <td>0.690898</td>\n",
       "    </tr>\n",
       "  </tbody>\n",
       "</table>\n",
       "</div>"
      ],
      "text/plain": [
       "                        Model  Precision Score  Recall Score  Accuracy Score  \\\n",
       "0          LogisticRegression         0.411345      0.771232        0.778054   \n",
       "1      DecisionTreeClassifier         0.719316      0.820581        0.916778   \n",
       "2        ExtraTreesClassifier         0.773315      0.846978        0.933155   \n",
       "3      RandomForestClassifier         0.771300      0.855394        0.933665   \n",
       "4       VotingClassifier-Hard         0.777162      0.697781        0.916332   \n",
       "5       VotingClassifier-Soft         0.656323      0.865723        0.902122   \n",
       "6  GradientBoostingClassifier         0.436805      0.811783        0.794303   \n",
       "7               XGBClassifier         0.568744      0.879878        0.868859   \n",
       "\n",
       "   F1 Score  \n",
       "0  0.536527  \n",
       "1  0.766619  \n",
       "2  0.808472  \n",
       "3  0.811174  \n",
       "4  0.735336  \n",
       "5  0.746618  \n",
       "6  0.567987  \n",
       "7  0.690898  "
      ]
     },
     "execution_count": 34,
     "metadata": {},
     "output_type": "execute_result"
    }
   ],
   "source": [
    "vanila_result_SMOTETomek=model_train(models,X_train_smk,X_test,y_train_smk,y_test)\n",
    "vanila_result_SMOTETomek"
   ]
  },
  {
   "cell_type": "markdown",
   "metadata": {},
   "source": [
    "#### RandomOverSampler"
   ]
  },
  {
   "cell_type": "code",
   "execution_count": 35,
   "metadata": {},
   "outputs": [
    {
     "data": {
      "text/plain": [
       "((61022, 141), (61022,))"
      ]
     },
     "execution_count": 35,
     "metadata": {},
     "output_type": "execute_result"
    }
   ],
   "source": [
    "rof=RandomOverSampler()\n",
    "X_train_rof,y_train_rof=rof.fit_sample(X_train,y_train)\n",
    "X_train_rof.shape,y_train_rof.shape"
   ]
  },
  {
   "cell_type": "code",
   "execution_count": 36,
   "metadata": {},
   "outputs": [
    {
     "data": {
      "text/html": [
       "<div>\n",
       "<style scoped>\n",
       "    .dataframe tbody tr th:only-of-type {\n",
       "        vertical-align: middle;\n",
       "    }\n",
       "\n",
       "    .dataframe tbody tr th {\n",
       "        vertical-align: top;\n",
       "    }\n",
       "\n",
       "    .dataframe thead th {\n",
       "        text-align: right;\n",
       "    }\n",
       "</style>\n",
       "<table border=\"1\" class=\"dataframe\">\n",
       "  <thead>\n",
       "    <tr style=\"text-align: right;\">\n",
       "      <th></th>\n",
       "      <th>Model</th>\n",
       "      <th>Precision Score</th>\n",
       "      <th>Recall Score</th>\n",
       "      <th>Accuracy Score</th>\n",
       "      <th>F1 Score</th>\n",
       "    </tr>\n",
       "  </thead>\n",
       "  <tbody>\n",
       "    <tr>\n",
       "      <td>0</td>\n",
       "      <td>LogisticRegression</td>\n",
       "      <td>0.411889</td>\n",
       "      <td>0.744836</td>\n",
       "      <td>0.780348</td>\n",
       "      <td>0.530445</td>\n",
       "    </tr>\n",
       "    <tr>\n",
       "      <td>1</td>\n",
       "      <td>DecisionTreeClassifier</td>\n",
       "      <td>0.751402</td>\n",
       "      <td>0.768936</td>\n",
       "      <td>0.919136</td>\n",
       "      <td>0.760068</td>\n",
       "    </tr>\n",
       "    <tr>\n",
       "      <td>2</td>\n",
       "      <td>ExtraTreesClassifier</td>\n",
       "      <td>0.806576</td>\n",
       "      <td>0.797628</td>\n",
       "      <td>0.934429</td>\n",
       "      <td>0.802077</td>\n",
       "    </tr>\n",
       "    <tr>\n",
       "      <td>3</td>\n",
       "      <td>RandomForestClassifier</td>\n",
       "      <td>0.784846</td>\n",
       "      <td>0.840092</td>\n",
       "      <td>0.935003</td>\n",
       "      <td>0.811530</td>\n",
       "    </tr>\n",
       "    <tr>\n",
       "      <td>4</td>\n",
       "      <td>VotingClassifier-Hard</td>\n",
       "      <td>0.796193</td>\n",
       "      <td>0.656083</td>\n",
       "      <td>0.914739</td>\n",
       "      <td>0.719379</td>\n",
       "    </tr>\n",
       "    <tr>\n",
       "      <td>5</td>\n",
       "      <td>VotingClassifier-Soft</td>\n",
       "      <td>0.684450</td>\n",
       "      <td>0.863810</td>\n",
       "      <td>0.910979</td>\n",
       "      <td>0.763741</td>\n",
       "    </tr>\n",
       "    <tr>\n",
       "      <td>6</td>\n",
       "      <td>GradientBoostingClassifier</td>\n",
       "      <td>0.467379</td>\n",
       "      <td>0.819434</td>\n",
       "      <td>0.814376</td>\n",
       "      <td>0.595248</td>\n",
       "    </tr>\n",
       "    <tr>\n",
       "      <td>7</td>\n",
       "      <td>XGBClassifier</td>\n",
       "      <td>0.604156</td>\n",
       "      <td>0.912012</td>\n",
       "      <td>0.885809</td>\n",
       "      <td>0.726829</td>\n",
       "    </tr>\n",
       "  </tbody>\n",
       "</table>\n",
       "</div>"
      ],
      "text/plain": [
       "                        Model  Precision Score  Recall Score  Accuracy Score  \\\n",
       "0          LogisticRegression         0.411889      0.744836        0.780348   \n",
       "1      DecisionTreeClassifier         0.751402      0.768936        0.919136   \n",
       "2        ExtraTreesClassifier         0.806576      0.797628        0.934429   \n",
       "3      RandomForestClassifier         0.784846      0.840092        0.935003   \n",
       "4       VotingClassifier-Hard         0.796193      0.656083        0.914739   \n",
       "5       VotingClassifier-Soft         0.684450      0.863810        0.910979   \n",
       "6  GradientBoostingClassifier         0.467379      0.819434        0.814376   \n",
       "7               XGBClassifier         0.604156      0.912012        0.885809   \n",
       "\n",
       "   F1 Score  \n",
       "0  0.530445  \n",
       "1  0.760068  \n",
       "2  0.802077  \n",
       "3  0.811530  \n",
       "4  0.719379  \n",
       "5  0.763741  \n",
       "6  0.595248  \n",
       "7  0.726829  "
      ]
     },
     "execution_count": 36,
     "metadata": {},
     "output_type": "execute_result"
    }
   ],
   "source": [
    "vanila_result_RandomOverSampler=model_train(models,X_train_rof,X_test,y_train_rof,y_test)\n",
    "vanila_result_RandomOverSampler"
   ]
  },
  {
   "cell_type": "markdown",
   "metadata": {},
   "source": [
    "**observation**\n",
    "- not major differance in both upsampling technique\n",
    "- use RandomOverSampler sampling Technique\n",
    "- DecisionTreeClassifier,RandomForestClassifier and VotingClassifier(Hard) models score is good"
   ]
  },
  {
   "cell_type": "markdown",
   "metadata": {},
   "source": [
    "## 2. Feature Selection"
   ]
  },
  {
   "cell_type": "code",
   "execution_count": 37,
   "metadata": {
    "scrolled": true
   },
   "outputs": [
    {
     "data": {
      "text/html": [
       "<div>\n",
       "<style scoped>\n",
       "    .dataframe tbody tr th:only-of-type {\n",
       "        vertical-align: middle;\n",
       "    }\n",
       "\n",
       "    .dataframe tbody tr th {\n",
       "        vertical-align: top;\n",
       "    }\n",
       "\n",
       "    .dataframe thead th {\n",
       "        text-align: right;\n",
       "    }\n",
       "</style>\n",
       "<table border=\"1\" class=\"dataframe\">\n",
       "  <thead>\n",
       "    <tr style=\"text-align: right;\">\n",
       "      <th></th>\n",
       "      <th>ID</th>\n",
       "      <th>Agency</th>\n",
       "      <th>Agency Type</th>\n",
       "      <th>Distribution Channel</th>\n",
       "      <th>Product Name</th>\n",
       "      <th>Duration</th>\n",
       "      <th>Destination</th>\n",
       "      <th>Net Sales</th>\n",
       "      <th>Commision (in value)</th>\n",
       "      <th>Age</th>\n",
       "      <th>Claim</th>\n",
       "    </tr>\n",
       "  </thead>\n",
       "  <tbody>\n",
       "    <tr>\n",
       "      <td>0</td>\n",
       "      <td>2010</td>\n",
       "      <td>EPX</td>\n",
       "      <td>Travel Agency</td>\n",
       "      <td>Online</td>\n",
       "      <td>Cancellation Plan</td>\n",
       "      <td>61</td>\n",
       "      <td>PHILIPPINES</td>\n",
       "      <td>12.0</td>\n",
       "      <td>0.00</td>\n",
       "      <td>41</td>\n",
       "      <td>0</td>\n",
       "    </tr>\n",
       "    <tr>\n",
       "      <td>1</td>\n",
       "      <td>4245</td>\n",
       "      <td>EPX</td>\n",
       "      <td>Travel Agency</td>\n",
       "      <td>Online</td>\n",
       "      <td>Cancellation Plan</td>\n",
       "      <td>4</td>\n",
       "      <td>MALAYSIA</td>\n",
       "      <td>17.0</td>\n",
       "      <td>0.00</td>\n",
       "      <td>35</td>\n",
       "      <td>0</td>\n",
       "    </tr>\n",
       "    <tr>\n",
       "      <td>2</td>\n",
       "      <td>9251</td>\n",
       "      <td>CWT</td>\n",
       "      <td>Travel Agency</td>\n",
       "      <td>Online</td>\n",
       "      <td>Rental Vehicle Excess Insurance</td>\n",
       "      <td>26</td>\n",
       "      <td>THAILAND</td>\n",
       "      <td>19.8</td>\n",
       "      <td>11.88</td>\n",
       "      <td>47</td>\n",
       "      <td>0</td>\n",
       "    </tr>\n",
       "    <tr>\n",
       "      <td>3</td>\n",
       "      <td>4754</td>\n",
       "      <td>EPX</td>\n",
       "      <td>Travel Agency</td>\n",
       "      <td>Online</td>\n",
       "      <td>2 way Comprehensive Plan</td>\n",
       "      <td>15</td>\n",
       "      <td>HONG KONG</td>\n",
       "      <td>27.0</td>\n",
       "      <td>0.00</td>\n",
       "      <td>48</td>\n",
       "      <td>0</td>\n",
       "    </tr>\n",
       "    <tr>\n",
       "      <td>4</td>\n",
       "      <td>8840</td>\n",
       "      <td>EPX</td>\n",
       "      <td>Travel Agency</td>\n",
       "      <td>Online</td>\n",
       "      <td>2 way Comprehensive Plan</td>\n",
       "      <td>15</td>\n",
       "      <td>MALAYSIA</td>\n",
       "      <td>37.0</td>\n",
       "      <td>0.00</td>\n",
       "      <td>36</td>\n",
       "      <td>0</td>\n",
       "    </tr>\n",
       "  </tbody>\n",
       "</table>\n",
       "</div>"
      ],
      "text/plain": [
       "     ID Agency    Agency Type Distribution Channel  \\\n",
       "0  2010    EPX  Travel Agency               Online   \n",
       "1  4245    EPX  Travel Agency               Online   \n",
       "2  9251    CWT  Travel Agency               Online   \n",
       "3  4754    EPX  Travel Agency               Online   \n",
       "4  8840    EPX  Travel Agency               Online   \n",
       "\n",
       "                      Product Name  Duration  Destination  Net Sales  \\\n",
       "0                Cancellation Plan        61  PHILIPPINES       12.0   \n",
       "1                Cancellation Plan         4     MALAYSIA       17.0   \n",
       "2  Rental Vehicle Excess Insurance        26     THAILAND       19.8   \n",
       "3         2 way Comprehensive Plan        15    HONG KONG       27.0   \n",
       "4         2 way Comprehensive Plan        15     MALAYSIA       37.0   \n",
       "\n",
       "   Commision (in value)  Age  Claim  \n",
       "0                  0.00   41      0  \n",
       "1                  0.00   35      0  \n",
       "2                 11.88   47      0  \n",
       "3                  0.00   48      0  \n",
       "4                  0.00   36      0  "
      ]
     },
     "execution_count": 37,
     "metadata": {},
     "output_type": "execute_result"
    }
   ],
   "source": [
    "data=pd.read_csv('Data/train.csv')\n",
    "data.head()"
   ]
  },
  {
   "cell_type": "code",
   "execution_count": 38,
   "metadata": {},
   "outputs": [],
   "source": [
    "# drop ID Column\n",
    "data.drop(columns='ID',inplace=True)\n",
    "\n",
    "# drop Commission Column due to multicollinearity\n",
    "data.drop(columns='Commision (in value)',inplace=True)"
   ]
  },
  {
   "cell_type": "code",
   "execution_count": 39,
   "metadata": {},
   "outputs": [],
   "source": [
    "# # Convert negative values in Net Sales to 0\n",
    "# data['Net Sales']=data['Net Sales'].map(lambda x:x if x>0 else 0)fid "
   ]
  },
  {
   "cell_type": "code",
   "execution_count": 40,
   "metadata": {},
   "outputs": [],
   "source": [
    "# Reduce Destination Value Count\n",
    "country=data['Destination'].value_counts()\n",
    "country_list=list(country[country>50].index)\n",
    "data['Destination']=data['Destination'].map(lambda x:x if x in country_list else 'OTHER')"
   ]
  },
  {
   "cell_type": "code",
   "execution_count": 41,
   "metadata": {},
   "outputs": [],
   "source": [
    "# create independent variable and target variable\n",
    "X=data.drop(columns='Claim')\n",
    "y=data['Claim']"
   ]
  },
  {
   "cell_type": "code",
   "execution_count": 42,
   "metadata": {},
   "outputs": [
    {
     "data": {
      "text/plain": [
       "['Agency',\n",
       " 'Agency Type',\n",
       " 'Distribution Channel',\n",
       " 'Product Name',\n",
       " 'Destination']"
      ]
     },
     "execution_count": 42,
     "metadata": {},
     "output_type": "execute_result"
    }
   ],
   "source": [
    "# create dummy variables for categorical data\n",
    "cat_cols=list(X.describe(include='object').columns)\n",
    "X=pd.get_dummies(X,columns=cat_cols,drop_first=True)\n",
    "cat_cols"
   ]
  },
  {
   "cell_type": "code",
   "execution_count": 43,
   "metadata": {},
   "outputs": [],
   "source": [
    "# split data into training set and testing set\n",
    "X_train,X_test,y_train,y_test=train_test_split(X,y,train_size=0.7,random_state=0)"
   ]
  },
  {
   "cell_type": "code",
   "execution_count": 44,
   "metadata": {},
   "outputs": [
    {
     "data": {
      "text/html": [
       "<div>\n",
       "<style scoped>\n",
       "    .dataframe tbody tr th:only-of-type {\n",
       "        vertical-align: middle;\n",
       "    }\n",
       "\n",
       "    .dataframe tbody tr th {\n",
       "        vertical-align: top;\n",
       "    }\n",
       "\n",
       "    .dataframe thead th {\n",
       "        text-align: right;\n",
       "    }\n",
       "</style>\n",
       "<table border=\"1\" class=\"dataframe\">\n",
       "  <thead>\n",
       "    <tr style=\"text-align: right;\">\n",
       "      <th></th>\n",
       "      <th>Model</th>\n",
       "      <th>Precision Score</th>\n",
       "      <th>Recall Score</th>\n",
       "      <th>Accuracy Score</th>\n",
       "      <th>F1 Score</th>\n",
       "    </tr>\n",
       "  </thead>\n",
       "  <tbody>\n",
       "    <tr>\n",
       "      <td>0</td>\n",
       "      <td>LogisticRegression</td>\n",
       "      <td>0.604743</td>\n",
       "      <td>0.292655</td>\n",
       "      <td>0.850315</td>\n",
       "      <td>0.394432</td>\n",
       "    </tr>\n",
       "    <tr>\n",
       "      <td>1</td>\n",
       "      <td>DecisionTreeClassifier</td>\n",
       "      <td>0.737998</td>\n",
       "      <td>0.758607</td>\n",
       "      <td>0.914930</td>\n",
       "      <td>0.748161</td>\n",
       "    </tr>\n",
       "    <tr>\n",
       "      <td>2</td>\n",
       "      <td>ExtraTreesClassifier</td>\n",
       "      <td>0.796311</td>\n",
       "      <td>0.776205</td>\n",
       "      <td>0.929650</td>\n",
       "      <td>0.786129</td>\n",
       "    </tr>\n",
       "    <tr>\n",
       "      <td>3</td>\n",
       "      <td>RandomForestClassifier</td>\n",
       "      <td>0.801823</td>\n",
       "      <td>0.773910</td>\n",
       "      <td>0.930479</td>\n",
       "      <td>0.787619</td>\n",
       "    </tr>\n",
       "    <tr>\n",
       "      <td>4</td>\n",
       "      <td>VotingClassifier-Hard</td>\n",
       "      <td>0.787600</td>\n",
       "      <td>0.262433</td>\n",
       "      <td>0.865354</td>\n",
       "      <td>0.393687</td>\n",
       "    </tr>\n",
       "    <tr>\n",
       "      <td>5</td>\n",
       "      <td>VotingClassifier-Soft</td>\n",
       "      <td>0.795988</td>\n",
       "      <td>0.622418</td>\n",
       "      <td>0.910533</td>\n",
       "      <td>0.698583</td>\n",
       "    </tr>\n",
       "    <tr>\n",
       "      <td>6</td>\n",
       "      <td>GradientBoostingClassifier</td>\n",
       "      <td>0.639057</td>\n",
       "      <td>0.404361</td>\n",
       "      <td>0.862741</td>\n",
       "      <td>0.495314</td>\n",
       "    </tr>\n",
       "    <tr>\n",
       "      <td>7</td>\n",
       "      <td>XGBClassifier</td>\n",
       "      <td>0.778757</td>\n",
       "      <td>0.675976</td>\n",
       "      <td>0.914038</td>\n",
       "      <td>0.723735</td>\n",
       "    </tr>\n",
       "  </tbody>\n",
       "</table>\n",
       "</div>"
      ],
      "text/plain": [
       "                        Model  Precision Score  Recall Score  Accuracy Score  \\\n",
       "0          LogisticRegression         0.604743      0.292655        0.850315   \n",
       "1      DecisionTreeClassifier         0.737998      0.758607        0.914930   \n",
       "2        ExtraTreesClassifier         0.796311      0.776205        0.929650   \n",
       "3      RandomForestClassifier         0.801823      0.773910        0.930479   \n",
       "4       VotingClassifier-Hard         0.787600      0.262433        0.865354   \n",
       "5       VotingClassifier-Soft         0.795988      0.622418        0.910533   \n",
       "6  GradientBoostingClassifier         0.639057      0.404361        0.862741   \n",
       "7               XGBClassifier         0.778757      0.675976        0.914038   \n",
       "\n",
       "   F1 Score  \n",
       "0  0.394432  \n",
       "1  0.748161  \n",
       "2  0.786129  \n",
       "3  0.787619  \n",
       "4  0.393687  \n",
       "5  0.698583  \n",
       "6  0.495314  \n",
       "7  0.723735  "
      ]
     },
     "execution_count": 44,
     "metadata": {},
     "output_type": "execute_result"
    }
   ],
   "source": [
    "# without over sampling\n",
    "model_train(models,X_train,X_test,y_train,y_test)"
   ]
  },
  {
   "cell_type": "code",
   "execution_count": 45,
   "metadata": {},
   "outputs": [
    {
     "data": {
      "text/plain": [
       "((61022, 88), (61022,))"
      ]
     },
     "execution_count": 45,
     "metadata": {},
     "output_type": "execute_result"
    }
   ],
   "source": [
    "# with over sampling\n",
    "rof=RandomOverSampler()\n",
    "X_train_rof,y_train_rof=rof.fit_sample(X_train,y_train)\n",
    "X_train_rof.shape,y_train_rof.shape"
   ]
  },
  {
   "cell_type": "code",
   "execution_count": 46,
   "metadata": {
    "scrolled": true
   },
   "outputs": [
    {
     "data": {
      "text/html": [
       "<div>\n",
       "<style scoped>\n",
       "    .dataframe tbody tr th:only-of-type {\n",
       "        vertical-align: middle;\n",
       "    }\n",
       "\n",
       "    .dataframe tbody tr th {\n",
       "        vertical-align: top;\n",
       "    }\n",
       "\n",
       "    .dataframe thead th {\n",
       "        text-align: right;\n",
       "    }\n",
       "</style>\n",
       "<table border=\"1\" class=\"dataframe\">\n",
       "  <thead>\n",
       "    <tr style=\"text-align: right;\">\n",
       "      <th></th>\n",
       "      <th>Model</th>\n",
       "      <th>Precision Score</th>\n",
       "      <th>Recall Score</th>\n",
       "      <th>Accuracy Score</th>\n",
       "      <th>F1 Score</th>\n",
       "    </tr>\n",
       "  </thead>\n",
       "  <tbody>\n",
       "    <tr>\n",
       "      <td>0</td>\n",
       "      <td>LogisticRegression</td>\n",
       "      <td>0.418143</td>\n",
       "      <td>0.740627</td>\n",
       "      <td>0.785127</td>\n",
       "      <td>0.534511</td>\n",
       "    </tr>\n",
       "    <tr>\n",
       "      <td>1</td>\n",
       "      <td>DecisionTreeClassifier</td>\n",
       "      <td>0.741947</td>\n",
       "      <td>0.766641</td>\n",
       "      <td>0.916714</td>\n",
       "      <td>0.754092</td>\n",
       "    </tr>\n",
       "    <tr>\n",
       "      <td>2</td>\n",
       "      <td>ExtraTreesClassifier</td>\n",
       "      <td>0.785168</td>\n",
       "      <td>0.785769</td>\n",
       "      <td>0.928503</td>\n",
       "      <td>0.785468</td>\n",
       "    </tr>\n",
       "    <tr>\n",
       "      <td>3</td>\n",
       "      <td>RandomForestClassifier</td>\n",
       "      <td>0.762206</td>\n",
       "      <td>0.830145</td>\n",
       "      <td>0.928567</td>\n",
       "      <td>0.794726</td>\n",
       "    </tr>\n",
       "    <tr>\n",
       "      <td>4</td>\n",
       "      <td>VotingClassifier-Hard</td>\n",
       "      <td>0.767946</td>\n",
       "      <td>0.650727</td>\n",
       "      <td>0.909068</td>\n",
       "      <td>0.704494</td>\n",
       "    </tr>\n",
       "    <tr>\n",
       "      <td>5</td>\n",
       "      <td>VotingClassifier-Soft</td>\n",
       "      <td>0.660646</td>\n",
       "      <td>0.853481</td>\n",
       "      <td>0.902568</td>\n",
       "      <td>0.744784</td>\n",
       "    </tr>\n",
       "    <tr>\n",
       "      <td>6</td>\n",
       "      <td>GradientBoostingClassifier</td>\n",
       "      <td>0.454584</td>\n",
       "      <td>0.823259</td>\n",
       "      <td>0.806028</td>\n",
       "      <td>0.585738</td>\n",
       "    </tr>\n",
       "    <tr>\n",
       "      <td>7</td>\n",
       "      <td>XGBClassifier</td>\n",
       "      <td>0.596187</td>\n",
       "      <td>0.921194</td>\n",
       "      <td>0.882941</td>\n",
       "      <td>0.723884</td>\n",
       "    </tr>\n",
       "  </tbody>\n",
       "</table>\n",
       "</div>"
      ],
      "text/plain": [
       "                        Model  Precision Score  Recall Score  Accuracy Score  \\\n",
       "0          LogisticRegression         0.418143      0.740627        0.785127   \n",
       "1      DecisionTreeClassifier         0.741947      0.766641        0.916714   \n",
       "2        ExtraTreesClassifier         0.785168      0.785769        0.928503   \n",
       "3      RandomForestClassifier         0.762206      0.830145        0.928567   \n",
       "4       VotingClassifier-Hard         0.767946      0.650727        0.909068   \n",
       "5       VotingClassifier-Soft         0.660646      0.853481        0.902568   \n",
       "6  GradientBoostingClassifier         0.454584      0.823259        0.806028   \n",
       "7               XGBClassifier         0.596187      0.921194        0.882941   \n",
       "\n",
       "   F1 Score  \n",
       "0  0.534511  \n",
       "1  0.754092  \n",
       "2  0.785468  \n",
       "3  0.794726  \n",
       "4  0.704494  \n",
       "5  0.744784  \n",
       "6  0.585738  \n",
       "7  0.723884  "
      ]
     },
     "execution_count": 46,
     "metadata": {},
     "output_type": "execute_result"
    }
   ],
   "source": [
    "model_train(models,X_train_rof,X_test,y_train_rof,y_test)"
   ]
  },
  {
   "cell_type": "markdown",
   "metadata": {},
   "source": [
    "**observation**\n",
    "- DecisionTreeClassifier,ExtraTreesClassifier,RandomForestClassifier,VotingClassifier(Hard) models Precision Score is higher than other models"
   ]
  },
  {
   "cell_type": "code",
   "execution_count": 47,
   "metadata": {},
   "outputs": [],
   "source": [
    "# handel outliers\n",
    "data=pd.read_csv('Data/train.csv')\n",
    "\n",
    "data.drop(columns='ID',inplace=True)\n",
    "\n",
    "data.drop(columns='Commision (in value)',inplace=True)\n",
    "\n",
    "num_cols=list(data.describe(exclude='object').columns)\n",
    "num_cols.pop()\n",
    "\n",
    "# detect outliers\n",
    "for i in data.describe(exclude='object').columns:\n",
    "    data[i]=winsorize(data[i], limits=[0.05, 0.1],inclusive=(True, True))\n",
    "\n",
    "# Reduce Destination Value Count\n",
    "country=data['Destination'].value_counts()\n",
    "country_list=list(country[country>50].index)\n",
    "data['Destination']=data['Destination'].map(lambda x:x if x in country_list else 'OTHER')\n",
    "\n",
    "X=data.drop(columns='Claim')\n",
    "y=data['Claim']\n",
    "\n",
    "cat_col=list(X.describe(include='object').columns)\n",
    "\n",
    "X=pd.get_dummies(X,columns=cat_col,drop_first=True)\n",
    "\n",
    "X_train,X_test,y_train,y_test=train_test_split(X,y,train_size=0.7,random_state=0)\n",
    "\n",
    "# simple model run with over sampling\n",
    "rof=RandomOverSampler()\n",
    "\n",
    "X_train_rof,y_train_rof=rof.fit_resample(X_train,y_train)"
   ]
  },
  {
   "cell_type": "code",
   "execution_count": 48,
   "metadata": {},
   "outputs": [
    {
     "data": {
      "text/html": [
       "<div>\n",
       "<style scoped>\n",
       "    .dataframe tbody tr th:only-of-type {\n",
       "        vertical-align: middle;\n",
       "    }\n",
       "\n",
       "    .dataframe tbody tr th {\n",
       "        vertical-align: top;\n",
       "    }\n",
       "\n",
       "    .dataframe thead th {\n",
       "        text-align: right;\n",
       "    }\n",
       "</style>\n",
       "<table border=\"1\" class=\"dataframe\">\n",
       "  <thead>\n",
       "    <tr style=\"text-align: right;\">\n",
       "      <th></th>\n",
       "      <th>Model</th>\n",
       "      <th>Precision Score</th>\n",
       "      <th>Recall Score</th>\n",
       "      <th>Accuracy Score</th>\n",
       "      <th>F1 Score</th>\n",
       "    </tr>\n",
       "  </thead>\n",
       "  <tbody>\n",
       "    <tr>\n",
       "      <td>0</td>\n",
       "      <td>LogisticRegression</td>\n",
       "      <td>0.398794</td>\n",
       "      <td>0.784621</td>\n",
       "      <td>0.767094</td>\n",
       "      <td>0.528813</td>\n",
       "    </tr>\n",
       "    <tr>\n",
       "      <td>1</td>\n",
       "      <td>DecisionTreeClassifier</td>\n",
       "      <td>0.677804</td>\n",
       "      <td>0.783856</td>\n",
       "      <td>0.901931</td>\n",
       "      <td>0.726982</td>\n",
       "    </tr>\n",
       "    <tr>\n",
       "      <td>2</td>\n",
       "      <td>ExtraTreesClassifier</td>\n",
       "      <td>0.727241</td>\n",
       "      <td>0.794568</td>\n",
       "      <td>0.916141</td>\n",
       "      <td>0.759415</td>\n",
       "    </tr>\n",
       "    <tr>\n",
       "      <td>3</td>\n",
       "      <td>RandomForestClassifier</td>\n",
       "      <td>0.703140</td>\n",
       "      <td>0.830910</td>\n",
       "      <td>0.913401</td>\n",
       "      <td>0.761704</td>\n",
       "    </tr>\n",
       "    <tr>\n",
       "      <td>4</td>\n",
       "      <td>VotingClassifier-Hard</td>\n",
       "      <td>0.702850</td>\n",
       "      <td>0.688600</td>\n",
       "      <td>0.899637</td>\n",
       "      <td>0.695652</td>\n",
       "    </tr>\n",
       "    <tr>\n",
       "      <td>5</td>\n",
       "      <td>VotingClassifier-Soft</td>\n",
       "      <td>0.646482</td>\n",
       "      <td>0.857689</td>\n",
       "      <td>0.898171</td>\n",
       "      <td>0.737257</td>\n",
       "    </tr>\n",
       "    <tr>\n",
       "      <td>6</td>\n",
       "      <td>GradientBoostingClassifier</td>\n",
       "      <td>0.453373</td>\n",
       "      <td>0.807192</td>\n",
       "      <td>0.805773</td>\n",
       "      <td>0.580627</td>\n",
       "    </tr>\n",
       "    <tr>\n",
       "      <td>7</td>\n",
       "      <td>XGBClassifier</td>\n",
       "      <td>0.588264</td>\n",
       "      <td>0.916603</td>\n",
       "      <td>0.879246</td>\n",
       "      <td>0.716614</td>\n",
       "    </tr>\n",
       "  </tbody>\n",
       "</table>\n",
       "</div>"
      ],
      "text/plain": [
       "                        Model  Precision Score  Recall Score  Accuracy Score  \\\n",
       "0          LogisticRegression         0.398794      0.784621        0.767094   \n",
       "1      DecisionTreeClassifier         0.677804      0.783856        0.901931   \n",
       "2        ExtraTreesClassifier         0.727241      0.794568        0.916141   \n",
       "3      RandomForestClassifier         0.703140      0.830910        0.913401   \n",
       "4       VotingClassifier-Hard         0.702850      0.688600        0.899637   \n",
       "5       VotingClassifier-Soft         0.646482      0.857689        0.898171   \n",
       "6  GradientBoostingClassifier         0.453373      0.807192        0.805773   \n",
       "7               XGBClassifier         0.588264      0.916603        0.879246   \n",
       "\n",
       "   F1 Score  \n",
       "0  0.528813  \n",
       "1  0.726982  \n",
       "2  0.759415  \n",
       "3  0.761704  \n",
       "4  0.695652  \n",
       "5  0.737257  \n",
       "6  0.580627  \n",
       "7  0.716614  "
      ]
     },
     "execution_count": 48,
     "metadata": {},
     "output_type": "execute_result"
    }
   ],
   "source": [
    "model_train(models,X_train_rof,X_test,y_train_rof,y_test)"
   ]
  },
  {
   "cell_type": "markdown",
   "metadata": {},
   "source": [
    "**observation**\n",
    "- DecisionTreeClassifier,ExtraTreesClassifier,RandomForestClassifier,VotingClassifier(Hard) models Precision Score is higher than other models"
   ]
  },
  {
   "cell_type": "markdown",
   "metadata": {},
   "source": [
    "### Apply SelectKBest model with mutual_info_classif\n",
    "find best feature count for models and compare precision score"
   ]
  },
  {
   "cell_type": "code",
   "execution_count": 49,
   "metadata": {},
   "outputs": [],
   "source": [
    "# create model dictionary\n",
    "models={\n",
    "    dt:'DecisionTreeClassifier',\n",
    "    edt:'ExtraTreesClassifier',\n",
    "    rf:'RandomForestClassifier',\n",
    "    vc_hard:'VotingClassifier-Hard'\n",
    "}"
   ]
  },
  {
   "cell_type": "code",
   "execution_count": 50,
   "metadata": {
    "scrolled": true
   },
   "outputs": [
    {
     "name": "stdout",
     "output_type": "stream",
     "text": [
      "(64,)\n"
     ]
    },
    {
     "data": {
      "text/html": [
       "<div>\n",
       "<style scoped>\n",
       "    .dataframe tbody tr th:only-of-type {\n",
       "        vertical-align: middle;\n",
       "    }\n",
       "\n",
       "    .dataframe tbody tr th {\n",
       "        vertical-align: top;\n",
       "    }\n",
       "\n",
       "    .dataframe thead th {\n",
       "        text-align: right;\n",
       "    }\n",
       "</style>\n",
       "<table border=\"1\" class=\"dataframe\">\n",
       "  <thead>\n",
       "    <tr style=\"text-align: right;\">\n",
       "      <th></th>\n",
       "      <th>Model</th>\n",
       "      <th>Precision Score</th>\n",
       "      <th>Recall Score</th>\n",
       "      <th>Accuracy Score</th>\n",
       "      <th>F1 Score</th>\n",
       "    </tr>\n",
       "  </thead>\n",
       "  <tbody>\n",
       "    <tr>\n",
       "      <td>0</td>\n",
       "      <td>DecisionTreeClassifier</td>\n",
       "      <td>0.681034</td>\n",
       "      <td>0.785769</td>\n",
       "      <td>0.903014</td>\n",
       "      <td>0.729663</td>\n",
       "    </tr>\n",
       "    <tr>\n",
       "      <td>1</td>\n",
       "      <td>ExtraTreesClassifier</td>\n",
       "      <td>0.721351</td>\n",
       "      <td>0.792272</td>\n",
       "      <td>0.914420</td>\n",
       "      <td>0.755150</td>\n",
       "    </tr>\n",
       "    <tr>\n",
       "      <td>2</td>\n",
       "      <td>RandomForestClassifier</td>\n",
       "      <td>0.704780</td>\n",
       "      <td>0.834736</td>\n",
       "      <td>0.914229</td>\n",
       "      <td>0.764273</td>\n",
       "    </tr>\n",
       "    <tr>\n",
       "      <td>3</td>\n",
       "      <td>VotingClassifier-Hard</td>\n",
       "      <td>0.700625</td>\n",
       "      <td>0.686687</td>\n",
       "      <td>0.898936</td>\n",
       "      <td>0.693586</td>\n",
       "    </tr>\n",
       "  </tbody>\n",
       "</table>\n",
       "</div>"
      ],
      "text/plain": [
       "                    Model  Precision Score  Recall Score  Accuracy Score  \\\n",
       "0  DecisionTreeClassifier         0.681034      0.785769        0.903014   \n",
       "1    ExtraTreesClassifier         0.721351      0.792272        0.914420   \n",
       "2  RandomForestClassifier         0.704780      0.834736        0.914229   \n",
       "3   VotingClassifier-Hard         0.700625      0.686687        0.898936   \n",
       "\n",
       "   F1 Score  \n",
       "0  0.729663  \n",
       "1  0.755150  \n",
       "2  0.764273  \n",
       "3  0.693586  "
      ]
     },
     "execution_count": 50,
     "metadata": {},
     "output_type": "execute_result"
    }
   ],
   "source": [
    "# best feture count for over sampling data \n",
    "mic=SelectKBest(score_func=mutual_info_classif,k='all')\n",
    "mic.fit(X_train_rof,y_train_rof)\n",
    "X_train_mic=mic.transform(X_train_rof)\n",
    "X_test_mic=mic.transform(X_test)\n",
    "score_sr=pd.Series(mic.scores_,index=[i for i in X_train.columns])\n",
    "score_sr=score_sr.sort_values(ascending=False)\n",
    "print(score_sr[score_sr>0].shape)\n",
    "model_train(models,X_train_mic,X_test_mic,y_train_rof,y_test)"
   ]
  },
  {
   "cell_type": "markdown",
   "metadata": {},
   "source": [
    "**observation**\n",
    "- notice small difference in Precision Score after appling SelectKBest model using mutual_info_classif as a score functionfun"
   ]
  },
  {
   "cell_type": "markdown",
   "metadata": {},
   "source": [
    "# Hyperparameter Tuning\n",
    "Hyperparameter tuning for above 4 models to compare result"
   ]
  },
  {
   "cell_type": "markdown",
   "metadata": {},
   "source": [
    "### Decision Tree"
   ]
  },
  {
   "cell_type": "code",
   "execution_count": 51,
   "metadata": {},
   "outputs": [],
   "source": [
    "dt_param_grid = {\"criterion\": [\"gini\", \"entropy\"],\n",
    "              \"min_samples_split\": [2, 10, 20],\n",
    "              \"max_depth\": [None, 2, 5, 10],\n",
    "              \"min_samples_leaf\": [1, 5, 10],\n",
    "              \"max_leaf_nodes\": [None, 5, 10, 20],\n",
    "              }"
   ]
  },
  {
   "cell_type": "code",
   "execution_count": 52,
   "metadata": {},
   "outputs": [],
   "source": [
    "rsc=RandomizedSearchCV(dt,param_distributions=dt_param_grid,cv=5)"
   ]
  },
  {
   "cell_type": "code",
   "execution_count": 54,
   "metadata": {},
   "outputs": [
    {
     "data": {
      "text/plain": [
       "RandomizedSearchCV(cv=5, error_score=nan,\n",
       "                   estimator=DecisionTreeClassifier(ccp_alpha=0.0,\n",
       "                                                    class_weight=None,\n",
       "                                                    criterion='gini',\n",
       "                                                    max_depth=None,\n",
       "                                                    max_features=None,\n",
       "                                                    max_leaf_nodes=None,\n",
       "                                                    min_impurity_decrease=0.0,\n",
       "                                                    min_impurity_split=None,\n",
       "                                                    min_samples_leaf=1,\n",
       "                                                    min_samples_split=2,\n",
       "                                                    min_weight_fraction_leaf=0.0,\n",
       "                                                    presort='deprecated',\n",
       "                                                    random_state=None,\n",
       "                                                    splitter='best'),\n",
       "                   iid='deprecated', n_iter=10, n_jobs=None,\n",
       "                   param_distributions={'criterion': ['gini', 'entropy'],\n",
       "                                        'max_depth': [None, 2, 5, 10],\n",
       "                                        'max_leaf_nodes': [None, 5, 10, 20],\n",
       "                                        'min_samples_leaf': [1, 5, 10],\n",
       "                                        'min_samples_split': [2, 10, 20]},\n",
       "                   pre_dispatch='2*n_jobs', random_state=None, refit=True,\n",
       "                   return_train_score=False, scoring=None, verbose=0)"
      ]
     },
     "execution_count": 54,
     "metadata": {},
     "output_type": "execute_result"
    }
   ],
   "source": [
    "rsc.fit(X_train_mic,y_train_rof)"
   ]
  },
  {
   "cell_type": "code",
   "execution_count": 55,
   "metadata": {},
   "outputs": [
    {
     "data": {
      "text/plain": [
       "{'min_samples_split': 10,\n",
       " 'min_samples_leaf': 5,\n",
       " 'max_leaf_nodes': None,\n",
       " 'max_depth': None,\n",
       " 'criterion': 'gini'}"
      ]
     },
     "execution_count": 55,
     "metadata": {},
     "output_type": "execute_result"
    }
   ],
   "source": [
    "rsc.best_params_"
   ]
  },
  {
   "cell_type": "code",
   "execution_count": 70,
   "metadata": {},
   "outputs": [
    {
     "data": {
      "text/plain": [
       "\"\\n{'min_samples_split': 10,\\n 'min_samples_leaf': 5,\\n 'max_leaf_nodes': None,\\n 'max_depth': None,\\n 'criterion': 'gini'}\\n\""
      ]
     },
     "execution_count": 70,
     "metadata": {},
     "output_type": "execute_result"
    }
   ],
   "source": [
    "# best parameters\n",
    "'''\n",
    "{'min_samples_split': 10,\n",
    " 'min_samples_leaf': 5,\n",
    " 'max_leaf_nodes': None,\n",
    " 'max_depth': None,\n",
    " 'criterion': 'gini'}\n",
    "'''"
   ]
  },
  {
   "cell_type": "code",
   "execution_count": 56,
   "metadata": {},
   "outputs": [],
   "source": [
    "dt=DecisionTreeClassifier(\n",
    "    min_samples_split=10,\n",
    "    min_samples_leaf=5,\n",
    "    criterion='gini'\n",
    ")"
   ]
  },
  {
   "cell_type": "markdown",
   "metadata": {},
   "source": [
    "### Random Forest"
   ]
  },
  {
   "cell_type": "code",
   "execution_count": 57,
   "metadata": {},
   "outputs": [],
   "source": [
    "# Number of trees in random forest\n",
    "n_estimators = [int(x) for x in np.linspace(start = 200, stop = 2000, num = 10)]\n",
    "# Number of features to consider at every split\n",
    "max_features = ['auto', 'sqrt']\n",
    "# Maximum number of levels in tree\n",
    "max_depth = [int(x) for x in np.linspace(10, 110, num = 11)]\n",
    "max_depth.append(None)\n",
    "# Minimum number of samples required to split a node\n",
    "min_samples_split = [2, 5, 10]\n",
    "# Minimum number of samples required at each leaf node\n",
    "min_samples_leaf = [1, 2, 4]\n",
    "# Method of selecting samples for training each tree\n",
    "bootstrap = [True, False]\n",
    "# Create the random grid\n",
    "random_grid = {'n_estimators': n_estimators,\n",
    "               'max_features': max_features,\n",
    "               'max_depth': max_depth,\n",
    "               'min_samples_split': min_samples_split,\n",
    "               'min_samples_leaf': min_samples_leaf,\n",
    "               'bootstrap': bootstrap}"
   ]
  },
  {
   "cell_type": "code",
   "execution_count": 58,
   "metadata": {},
   "outputs": [],
   "source": [
    "rsc=RandomizedSearchCV(rf,param_distributions=random_grid,cv=5)"
   ]
  },
  {
   "cell_type": "code",
   "execution_count": 59,
   "metadata": {},
   "outputs": [
    {
     "data": {
      "text/plain": [
       "RandomizedSearchCV(cv=5, error_score=nan,\n",
       "                   estimator=RandomForestClassifier(bootstrap=True,\n",
       "                                                    ccp_alpha=0.0,\n",
       "                                                    class_weight=None,\n",
       "                                                    criterion='gini',\n",
       "                                                    max_depth=None,\n",
       "                                                    max_features='auto',\n",
       "                                                    max_leaf_nodes=None,\n",
       "                                                    max_samples=None,\n",
       "                                                    min_impurity_decrease=0.0,\n",
       "                                                    min_impurity_split=None,\n",
       "                                                    min_samples_leaf=1,\n",
       "                                                    min_samples_split=2,\n",
       "                                                    min_weight_fraction_leaf=0.0,\n",
       "                                                    n_estimators=100,\n",
       "                                                    n_jobs...\n",
       "                   param_distributions={'bootstrap': [True, False],\n",
       "                                        'max_depth': [10, 20, 30, 40, 50, 60,\n",
       "                                                      70, 80, 90, 100, 110,\n",
       "                                                      None],\n",
       "                                        'max_features': ['auto', 'sqrt'],\n",
       "                                        'min_samples_leaf': [1, 2, 4],\n",
       "                                        'min_samples_split': [2, 5, 10],\n",
       "                                        'n_estimators': [200, 400, 600, 800,\n",
       "                                                         1000, 1200, 1400, 1600,\n",
       "                                                         1800, 2000]},\n",
       "                   pre_dispatch='2*n_jobs', random_state=None, refit=True,\n",
       "                   return_train_score=False, scoring=None, verbose=0)"
      ]
     },
     "execution_count": 59,
     "metadata": {},
     "output_type": "execute_result"
    }
   ],
   "source": [
    "rsc.fit(X_train_mic,y_train_rof)"
   ]
  },
  {
   "cell_type": "code",
   "execution_count": 60,
   "metadata": {},
   "outputs": [
    {
     "data": {
      "text/plain": [
       "{'n_estimators': 2000,\n",
       " 'min_samples_split': 2,\n",
       " 'min_samples_leaf': 1,\n",
       " 'max_features': 'sqrt',\n",
       " 'max_depth': 40,\n",
       " 'bootstrap': True}"
      ]
     },
     "execution_count": 60,
     "metadata": {},
     "output_type": "execute_result"
    }
   ],
   "source": [
    "rsc.best_params_"
   ]
  },
  {
   "cell_type": "code",
   "execution_count": 69,
   "metadata": {},
   "outputs": [
    {
     "data": {
      "text/plain": [
       "\"\\n{'n_estimators': 2000,\\n 'min_samples_split': 2,\\n 'min_samples_leaf': 1,\\n 'max_features': 'sqrt',\\n 'max_depth': 40,\\n 'bootstrap': True}\\n \""
      ]
     },
     "execution_count": 69,
     "metadata": {},
     "output_type": "execute_result"
    }
   ],
   "source": [
    "# best parameters\n",
    "'''\n",
    "{'n_estimators': 2000,\n",
    " 'min_samples_split': 2,\n",
    " 'min_samples_leaf': 1,\n",
    " 'max_features': 'sqrt',\n",
    " 'max_depth': 40,\n",
    " 'bootstrap': True}\n",
    " '''"
   ]
  },
  {
   "cell_type": "code",
   "execution_count": 61,
   "metadata": {},
   "outputs": [],
   "source": [
    "rf=RandomForestClassifier(\n",
    "    n_estimators=2000,\n",
    "    min_samples_split=2,\n",
    "    min_samples_leaf=1,   \n",
    "    max_features='sqrt',\n",
    "    max_depth=40,\n",
    "    bootstrap=True\n",
    ")"
   ]
  },
  {
   "cell_type": "markdown",
   "metadata": {},
   "source": [
    "### Extra Tree"
   ]
  },
  {
   "cell_type": "code",
   "execution_count": 64,
   "metadata": {},
   "outputs": [],
   "source": [
    "param_grid={\n",
    "        'n_estimators': range(50,126,25),\n",
    "        'max_features': range(50,401,50),\n",
    "        'min_samples_leaf': range(20,50,5),\n",
    "        'min_samples_split': range(15,36,5),\n",
    "    }"
   ]
  },
  {
   "cell_type": "code",
   "execution_count": 65,
   "metadata": {},
   "outputs": [
    {
     "data": {
      "text/plain": [
       "{'n_estimators': range(50, 126, 25),\n",
       " 'max_features': range(50, 401, 50),\n",
       " 'min_samples_leaf': range(20, 50, 5),\n",
       " 'min_samples_split': range(15, 36, 5)}"
      ]
     },
     "execution_count": 65,
     "metadata": {},
     "output_type": "execute_result"
    }
   ],
   "source": [
    "param_grid"
   ]
  },
  {
   "cell_type": "code",
   "execution_count": 66,
   "metadata": {},
   "outputs": [],
   "source": [
    "rsc=RandomizedSearchCV(edt,param_distributions=param_grid,cv=5)"
   ]
  },
  {
   "cell_type": "code",
   "execution_count": 67,
   "metadata": {},
   "outputs": [
    {
     "data": {
      "text/plain": [
       "RandomizedSearchCV(cv=5, error_score=nan,\n",
       "                   estimator=ExtraTreesClassifier(bootstrap=False,\n",
       "                                                  ccp_alpha=0.0,\n",
       "                                                  class_weight=None,\n",
       "                                                  criterion='gini',\n",
       "                                                  max_depth=None,\n",
       "                                                  max_features='auto',\n",
       "                                                  max_leaf_nodes=None,\n",
       "                                                  max_samples=None,\n",
       "                                                  min_impurity_decrease=0.0,\n",
       "                                                  min_impurity_split=None,\n",
       "                                                  min_samples_leaf=1,\n",
       "                                                  min_samples_split=2,\n",
       "                                                  min_weight_fraction_leaf=0.0,\n",
       "                                                  n_estimators=100, n_jobs=...\n",
       "                                                  oob_score=False,\n",
       "                                                  random_state=None, verbose=0,\n",
       "                                                  warm_start=False),\n",
       "                   iid='deprecated', n_iter=10, n_jobs=None,\n",
       "                   param_distributions={'max_features': range(50, 401, 50),\n",
       "                                        'min_samples_leaf': range(20, 50, 5),\n",
       "                                        'min_samples_split': range(15, 36, 5),\n",
       "                                        'n_estimators': range(50, 126, 25)},\n",
       "                   pre_dispatch='2*n_jobs', random_state=None, refit=True,\n",
       "                   return_train_score=False, scoring=None, verbose=0)"
      ]
     },
     "execution_count": 67,
     "metadata": {},
     "output_type": "execute_result"
    }
   ],
   "source": [
    "rsc.fit(X_train_mic,y_train_rof)"
   ]
  },
  {
   "cell_type": "code",
   "execution_count": 68,
   "metadata": {},
   "outputs": [
    {
     "data": {
      "text/plain": [
       "{'n_estimators': 50,\n",
       " 'min_samples_split': 20,\n",
       " 'min_samples_leaf': 25,\n",
       " 'max_features': 50}"
      ]
     },
     "execution_count": 68,
     "metadata": {},
     "output_type": "execute_result"
    }
   ],
   "source": [
    "rsc.best_params_"
   ]
  },
  {
   "cell_type": "code",
   "execution_count": 71,
   "metadata": {},
   "outputs": [
    {
     "data": {
      "text/plain": [
       "\"\\n{'n_estimators': 50,\\n 'min_samples_split': 20,\\n 'min_samples_leaf': 25,\\n 'max_features': 50}\\n\""
      ]
     },
     "execution_count": 71,
     "metadata": {},
     "output_type": "execute_result"
    }
   ],
   "source": [
    "# best parameters\n",
    "'''\n",
    "{'n_estimators': 50,\n",
    " 'min_samples_split': 20,\n",
    " 'min_samples_leaf': 25,\n",
    " 'max_features': 50}\n",
    "'''"
   ]
  },
  {
   "cell_type": "code",
   "execution_count": 72,
   "metadata": {},
   "outputs": [],
   "source": [
    "edt=ExtraTreesClassifier(\n",
    "    n_estimators=50,\n",
    "    min_samples_split=20,\n",
    "    min_samples_leaf=25,\n",
    "    max_features=50\n",
    ")"
   ]
  },
  {
   "cell_type": "markdown",
   "metadata": {},
   "source": [
    "### Voting Classifier Hard"
   ]
  },
  {
   "cell_type": "code",
   "execution_count": 83,
   "metadata": {},
   "outputs": [],
   "source": [
    "param_grid={\n",
    "    'rf__n_estimators': [200, 400, 600, 800, 1000, 1200, 1400, 1600, 1800, 2000],\n",
    "    'rf__max_features': ['auto', 'sqrt'],\n",
    "    'rf__max_depth': [10, 20, 30, 40, 50, 60, 70, 80, 90, 100, 110, None],\n",
    "    'rf__min_samples_split': [2, 5, 10],\n",
    "    'rf__min_samples_leaf': [1, 2, 4],\n",
    "    'rf__bootstrap': [True, False],\n",
    "    'lr__penalty' : ['l1', 'l2'],\n",
    "    'lr__C':np.logspace(0, 4, 10)\n",
    "}"
   ]
  },
  {
   "cell_type": "code",
   "execution_count": 84,
   "metadata": {},
   "outputs": [],
   "source": [
    "rsc=RandomizedSearchCV(vc_hard,param_distributions=param_grid,cv=5)"
   ]
  },
  {
   "cell_type": "code",
   "execution_count": 85,
   "metadata": {
    "scrolled": false
   },
   "outputs": [
    {
     "data": {
      "text/plain": [
       "RandomizedSearchCV(cv=5, error_score=nan,\n",
       "                   estimator=VotingClassifier(estimators=[('rf',\n",
       "                                                           RandomForestClassifier(bootstrap=True,\n",
       "                                                                                  ccp_alpha=0.0,\n",
       "                                                                                  class_weight=None,\n",
       "                                                                                  criterion='gini',\n",
       "                                                                                  max_depth=None,\n",
       "                                                                                  max_features='auto',\n",
       "                                                                                  max_leaf_nodes=None,\n",
       "                                                                                  max_samples=None,\n",
       "                                                                                  min_impurity_decrease=0.0,\n",
       "                                                                                  min_impurity_split=None,\n",
       "                                                                                  min_samples_leaf=1,\n",
       "                                                                                  min_samples_split=2,\n",
       "                                                                                  min_weight_fracti...\n",
       "                                        'rf__bootstrap': [True, False],\n",
       "                                        'rf__max_depth': [10, 20, 30, 40, 50,\n",
       "                                                          60, 70, 80, 90, 100,\n",
       "                                                          110, None],\n",
       "                                        'rf__max_features': ['auto', 'sqrt'],\n",
       "                                        'rf__min_samples_leaf': [1, 2, 4],\n",
       "                                        'rf__min_samples_split': [2, 5, 10],\n",
       "                                        'rf__n_estimators': [200, 400, 600, 800,\n",
       "                                                             1000, 1200, 1400,\n",
       "                                                             1600, 1800,\n",
       "                                                             2000]},\n",
       "                   pre_dispatch='2*n_jobs', random_state=None, refit=True,\n",
       "                   return_train_score=False, scoring=None, verbose=0)"
      ]
     },
     "execution_count": 85,
     "metadata": {},
     "output_type": "execute_result"
    }
   ],
   "source": [
    "rsc.fit(X_train_mic,y_train_rof)"
   ]
  },
  {
   "cell_type": "code",
   "execution_count": 86,
   "metadata": {},
   "outputs": [
    {
     "data": {
      "text/plain": [
       "{'rf__n_estimators': 800,\n",
       " 'rf__min_samples_split': 2,\n",
       " 'rf__min_samples_leaf': 1,\n",
       " 'rf__max_features': 'auto',\n",
       " 'rf__max_depth': None,\n",
       " 'rf__bootstrap': False,\n",
       " 'lr__penalty': 'l2',\n",
       " 'lr__C': 21.544346900318832}"
      ]
     },
     "execution_count": 86,
     "metadata": {},
     "output_type": "execute_result"
    }
   ],
   "source": [
    "rsc.best_params_"
   ]
  },
  {
   "cell_type": "code",
   "execution_count": 87,
   "metadata": {},
   "outputs": [
    {
     "data": {
      "text/plain": [
       "\"\\n{'rf__n_estimators': 800,\\n 'rf__min_samples_split': 2,\\n 'rf__min_samples_leaf': 1,\\n 'rf__max_features': 'auto',\\n 'rf__max_depth': None,\\n 'rf__bootstrap': False,\\n 'lr__penalty': 'l2',\\n 'lr__C': 21.544346900318832}\\n\""
      ]
     },
     "execution_count": 87,
     "metadata": {},
     "output_type": "execute_result"
    }
   ],
   "source": [
    "# best parameter\n",
    "'''\n",
    "{'rf__n_estimators': 800,\n",
    " 'rf__min_samples_split': 2,\n",
    " 'rf__min_samples_leaf': 1,\n",
    " 'rf__max_features': 'auto',\n",
    " 'rf__max_depth': None,\n",
    " 'rf__bootstrap': False,\n",
    " 'lr__penalty': 'l2',\n",
    " 'lr__C': 21.544346900318832}\n",
    "'''"
   ]
  },
  {
   "cell_type": "code",
   "execution_count": 88,
   "metadata": {},
   "outputs": [],
   "source": [
    "vc_lr=LogisticRegression(penalty='l2',C=21.544346900318832)\n",
    "vc_rf=RandomForestClassifier(\n",
    "    n_estimators=800,\n",
    "    min_samples_split=2,\n",
    "    min_samples_leaf=1,\n",
    "    max_features='auto',\n",
    "    bootstrap=False\n",
    ")"
   ]
  },
  {
   "cell_type": "code",
   "execution_count": 89,
   "metadata": {},
   "outputs": [],
   "source": [
    "vc_hard=VotingClassifier(estimators=[('rf',vc_rf),('lr',vc_lr)])"
   ]
  },
  {
   "cell_type": "markdown",
   "metadata": {},
   "source": [
    "## Testing model after Hyperparameter Tuning"
   ]
  },
  {
   "cell_type": "code",
   "execution_count": 90,
   "metadata": {},
   "outputs": [],
   "source": [
    "# create model dictionary\n",
    "models={\n",
    "    dt:'DecisionTreeClassifier',\n",
    "    edt:'ExtraTreesClassifier',\n",
    "    rf:'RandomForestClassifier',\n",
    "    vc_hard:'VotingClassifier-Hard'\n",
    "}"
   ]
  },
  {
   "cell_type": "code",
   "execution_count": 91,
   "metadata": {},
   "outputs": [
    {
     "data": {
      "text/html": [
       "<div>\n",
       "<style scoped>\n",
       "    .dataframe tbody tr th:only-of-type {\n",
       "        vertical-align: middle;\n",
       "    }\n",
       "\n",
       "    .dataframe tbody tr th {\n",
       "        vertical-align: top;\n",
       "    }\n",
       "\n",
       "    .dataframe thead th {\n",
       "        text-align: right;\n",
       "    }\n",
       "</style>\n",
       "<table border=\"1\" class=\"dataframe\">\n",
       "  <thead>\n",
       "    <tr style=\"text-align: right;\">\n",
       "      <th></th>\n",
       "      <th>Model</th>\n",
       "      <th>Precision Score</th>\n",
       "      <th>Recall Score</th>\n",
       "      <th>Accuracy Score</th>\n",
       "      <th>F1 Score</th>\n",
       "    </tr>\n",
       "  </thead>\n",
       "  <tbody>\n",
       "    <tr>\n",
       "      <td>0</td>\n",
       "      <td>DecisionTreeClassifier</td>\n",
       "      <td>0.614574</td>\n",
       "      <td>0.825937</td>\n",
       "      <td>0.884726</td>\n",
       "      <td>0.704749</td>\n",
       "    </tr>\n",
       "    <tr>\n",
       "      <td>1</td>\n",
       "      <td>ExtraTreesClassifier</td>\n",
       "      <td>0.485829</td>\n",
       "      <td>0.878730</td>\n",
       "      <td>0.824890</td>\n",
       "      <td>0.625715</td>\n",
       "    </tr>\n",
       "    <tr>\n",
       "      <td>2</td>\n",
       "      <td>RandomForestClassifier</td>\n",
       "      <td>0.696343</td>\n",
       "      <td>0.837796</td>\n",
       "      <td>0.912126</td>\n",
       "      <td>0.760549</td>\n",
       "    </tr>\n",
       "    <tr>\n",
       "      <td>3</td>\n",
       "      <td>VotingClassifier-Hard</td>\n",
       "      <td>0.716758</td>\n",
       "      <td>0.649579</td>\n",
       "      <td>0.898872</td>\n",
       "      <td>0.681517</td>\n",
       "    </tr>\n",
       "  </tbody>\n",
       "</table>\n",
       "</div>"
      ],
      "text/plain": [
       "                    Model  Precision Score  Recall Score  Accuracy Score  \\\n",
       "0  DecisionTreeClassifier         0.614574      0.825937        0.884726   \n",
       "1    ExtraTreesClassifier         0.485829      0.878730        0.824890   \n",
       "2  RandomForestClassifier         0.696343      0.837796        0.912126   \n",
       "3   VotingClassifier-Hard         0.716758      0.649579        0.898872   \n",
       "\n",
       "   F1 Score  \n",
       "0  0.704749  \n",
       "1  0.625715  \n",
       "2  0.760549  \n",
       "3  0.681517  "
      ]
     },
     "execution_count": 91,
     "metadata": {},
     "output_type": "execute_result"
    }
   ],
   "source": [
    "model_train(models,X_train_mic,X_test_mic,y_train_rof,y_test)"
   ]
  },
  {
   "cell_type": "markdown",
   "metadata": {},
   "source": [
    "**observation**\n",
    "- after hyperparameter tuning VotingCLassifier(hard) model give best Precision Score result"
   ]
  },
  {
   "cell_type": "markdown",
   "metadata": {},
   "source": [
    "# Create Pipeline using VotingClassifier (Hard) Model"
   ]
  },
  {
   "cell_type": "code",
   "execution_count": 2,
   "metadata": {},
   "outputs": [],
   "source": [
    "# Data Preprocessing\n",
    "def data_preprocessing(df):\n",
    "    '''\n",
    "        create saperate id column dataframe\n",
    "        change categorical columns datatype into category\n",
    "        drop missing values\n",
    "        drop id and commision column\n",
    "        handle outliers\n",
    "        handle Destination Column unique value count\n",
    "        create dummy variables for categorical data\n",
    "        \n",
    "        param:\n",
    "            df           : dataFrame\n",
    "        \n",
    "        return:\n",
    "            output_id    : id dataframe\n",
    "            df         : processed data\n",
    "    '''\n",
    "    # create new dataframe\n",
    "    output_id=pd.DataFrame(df['ID'])\n",
    "    \n",
    "    # convert data types into category\n",
    "    for i in df.describe(include='object').columns:\n",
    "        df[i]=df[i].astype('category')\n",
    "        \n",
    "    # drop null values\n",
    "    df.dropna(inplace=True)\n",
    "    \n",
    "    # drop id and commision column\n",
    "    df.drop(columns=['ID','Commision (in value)'],inplace=True)\n",
    "\n",
    "    # detect outliers\n",
    "    for i in df.describe(exclude='object').columns:\n",
    "        data[i]=winsorize(data[i], limits=[0.05, 0.1],inclusive=(True, True))\n",
    "\n",
    "    # Reduce Destination Value Count\n",
    "    country_list=['SINGAPORE','THAILAND','MALAYSIA','CHINA','AUSTRALIA','INDONESIA','UNITED STATES',\n",
    "                  'PHILIPPINES','HONG KONG','JAPAN','INDIA','VIET NAM','KOREA, REPUBLIC OF','UNITED KINGDOM',\n",
    "                  'TAIWAN, PROVINCE OF CHINA','MYANMAR','BRUNEI DARUSSALAM','ITALY','CANADA','NEW ZEALAND',\n",
    "                  'CAMBODIA','FRANCE','GERMANY','NETHERLANDS','SPAIN','UNITED ARAB EMIRATES','SWITZERLAND',\n",
    "                  'SRI LANKA','SOUTH AFRICA','NEPAL','NORWAY',\"LAO PEOPLE'S DEMOCRATIC REPUBLIC\",'IRELAND',\n",
    "                  'ICELAND','DENMARK','MACAO','GREECE','PERU','PORTUGAL','BANGLADESH','AUSTRIA','FINLAND',\n",
    "                  'TURKEY','RUSSIAN FEDERATION']\n",
    "    df['Destination']=df['Destination'].map(lambda x:x if x in country_list else 'OTHER')\n",
    "    df['Destination']=df['Destination'].astype('category')\n",
    "    \n",
    "    # Create Dummy Variables\n",
    "    cat_col=list(df.describe(include='category').columns)\n",
    "    df=pd.get_dummies(df,columns=cat_col,drop_first=True)\n",
    "    \n",
    "    return output_id,df"
   ]
  },
  {
   "cell_type": "code",
   "execution_count": 3,
   "metadata": {},
   "outputs": [],
   "source": [
    "data=pd.read_csv('Data/train.csv')\n",
    "# country=data['Destination'].value_counts()\n",
    "# country_list=list(country[country>50].index)\n",
    "# country_list"
   ]
  },
  {
   "cell_type": "code",
   "execution_count": 4,
   "metadata": {},
   "outputs": [],
   "source": [
    "X=data.drop(columns='Claim')\n",
    "y=data['Claim']"
   ]
  },
  {
   "cell_type": "code",
   "execution_count": 5,
   "metadata": {},
   "outputs": [],
   "source": [
    "output_id,X=data_preprocessing(X)"
   ]
  },
  {
   "cell_type": "code",
   "execution_count": 6,
   "metadata": {},
   "outputs": [],
   "source": [
    "skb=SelectKBest(score_func=mutual_info_classif,k=64)\n",
    "\n",
    "vc_lr=LogisticRegression(penalty='l2',C=21.544346900318832)\n",
    "vc_rf=RandomForestClassifier(\n",
    "    n_estimators=800,\n",
    "    min_samples_split=2,\n",
    "    min_samples_leaf=1,\n",
    "    max_features='auto',\n",
    "    bootstrap=False\n",
    ")\n",
    "\n",
    "vc_hard=VotingClassifier(estimators=[('rf',vc_rf),('lr',vc_lr)])"
   ]
  },
  {
   "cell_type": "code",
   "execution_count": 7,
   "metadata": {},
   "outputs": [],
   "source": [
    "pipe=Pipeline([('best_feature',skb),\n",
    "              ('VotingClassifier-Hard',vc_hard)])"
   ]
  },
  {
   "cell_type": "code",
   "execution_count": 8,
   "metadata": {},
   "outputs": [],
   "source": [
    "X_train,X_test,y_train,y_test=train_test_split(X,y,train_size=0.7,random_state=0)"
   ]
  },
  {
   "cell_type": "code",
   "execution_count": 9,
   "metadata": {},
   "outputs": [],
   "source": [
    "rof=RandomOverSampler()"
   ]
  },
  {
   "cell_type": "code",
   "execution_count": 10,
   "metadata": {},
   "outputs": [],
   "source": [
    "X_train,y_train=rof.fit_resample(X_train,y_train)"
   ]
  },
  {
   "cell_type": "code",
   "execution_count": 11,
   "metadata": {
    "scrolled": false
   },
   "outputs": [
    {
     "data": {
      "text/plain": [
       "Pipeline(memory=None,\n",
       "         steps=[('best_feature',\n",
       "                 SelectKBest(k=64,\n",
       "                             score_func=<function mutual_info_classif at 0x7f567b6d0e60>)),\n",
       "                ('VotingClassifier-Hard',\n",
       "                 VotingClassifier(estimators=[('rf',\n",
       "                                               RandomForestClassifier(bootstrap=False,\n",
       "                                                                      ccp_alpha=0.0,\n",
       "                                                                      class_weight=None,\n",
       "                                                                      criterion='gini',\n",
       "                                                                      max_depth=None,\n",
       "                                                                      max_features='auto',\n",
       "                                                                      max_leaf_nodes=None,\n",
       "                                                                      max_samples=None,\n",
       "                                                                      min_impuri...\n",
       "                                                                      warm_start=False)),\n",
       "                                              ('lr',\n",
       "                                               LogisticRegression(C=21.544346900318832,\n",
       "                                                                  class_weight=None,\n",
       "                                                                  dual=False,\n",
       "                                                                  fit_intercept=True,\n",
       "                                                                  intercept_scaling=1,\n",
       "                                                                  l1_ratio=None,\n",
       "                                                                  max_iter=100,\n",
       "                                                                  multi_class='auto',\n",
       "                                                                  n_jobs=None,\n",
       "                                                                  penalty='l2',\n",
       "                                                                  random_state=None,\n",
       "                                                                  solver='lbfgs',\n",
       "                                                                  tol=0.0001,\n",
       "                                                                  verbose=0,\n",
       "                                                                  warm_start=False))],\n",
       "                                  flatten_transform=True, n_jobs=None,\n",
       "                                  voting='hard', weights=None))],\n",
       "         verbose=False)"
      ]
     },
     "execution_count": 11,
     "metadata": {},
     "output_type": "execute_result"
    }
   ],
   "source": [
    "pipe.fit(X_train,y_train)"
   ]
  },
  {
   "cell_type": "code",
   "execution_count": 12,
   "metadata": {},
   "outputs": [],
   "source": [
    "y_pred=pipe.predict(X_test)"
   ]
  },
  {
   "cell_type": "code",
   "execution_count": 13,
   "metadata": {},
   "outputs": [
    {
     "data": {
      "text/plain": [
       "0.7969620253164557"
      ]
     },
     "execution_count": 13,
     "metadata": {},
     "output_type": "execute_result"
    }
   ],
   "source": [
    "precision_score(y_test,y_pred)"
   ]
  },
  {
   "cell_type": "code",
   "execution_count": 14,
   "metadata": {},
   "outputs": [
    {
     "name": "stdout",
     "output_type": "stream",
     "text": [
      "              precision    recall  f1-score   support\n",
      "\n",
      "           0       0.92      0.97      0.95     13079\n",
      "           1       0.80      0.60      0.69      2614\n",
      "\n",
      "    accuracy                           0.91     15693\n",
      "   macro avg       0.86      0.79      0.82     15693\n",
      "weighted avg       0.90      0.91      0.90     15693\n",
      "\n"
     ]
    }
   ],
   "source": [
    "print(classification_report(y_test,y_pred))"
   ]
  },
  {
   "cell_type": "code",
   "execution_count": 15,
   "metadata": {},
   "outputs": [],
   "source": [
    "tn, fp, fn, tp=confusion_matrix(y_test,y_pred).ravel()"
   ]
  },
  {
   "cell_type": "code",
   "execution_count": 16,
   "metadata": {},
   "outputs": [
    {
     "data": {
      "text/plain": [
       "(12678, 401, 1040, 1574)"
      ]
     },
     "execution_count": 16,
     "metadata": {},
     "output_type": "execute_result"
    }
   ],
   "source": [
    "(tn, fp, fn, tp)"
   ]
  },
  {
   "cell_type": "markdown",
   "metadata": {},
   "source": [
    "## Actual Testing Data"
   ]
  },
  {
   "cell_type": "code",
   "execution_count": 17,
   "metadata": {},
   "outputs": [],
   "source": [
    "test=pd.read_csv(\"Data/test.csv\")\n",
    "#data=pd.read_csv('Data/train.csv')"
   ]
  },
  {
   "cell_type": "code",
   "execution_count": 18,
   "metadata": {},
   "outputs": [],
   "source": [
    "output_id,test=data_preprocessing(test)"
   ]
  },
  {
   "cell_type": "code",
   "execution_count": 19,
   "metadata": {},
   "outputs": [
    {
     "data": {
      "text/plain": [
       "((15693, 88), (22421, 88))"
      ]
     },
     "execution_count": 19,
     "metadata": {},
     "output_type": "execute_result"
    }
   ],
   "source": [
    "X_test.shape,test.shape"
   ]
  },
  {
   "cell_type": "code",
   "execution_count": 20,
   "metadata": {},
   "outputs": [],
   "source": [
    "y_pred=pipe.predict(test)"
   ]
  },
  {
   "cell_type": "code",
   "execution_count": 21,
   "metadata": {},
   "outputs": [],
   "source": [
    "pred_df=pd.DataFrame(y_pred,columns=['Claim'])"
   ]
  },
  {
   "cell_type": "code",
   "execution_count": 22,
   "metadata": {},
   "outputs": [],
   "source": [
    "output_file=pd.concat([output_id,pred_df],axis=1,names=['ID','Claim'])"
   ]
  },
  {
   "cell_type": "code",
   "execution_count": 23,
   "metadata": {},
   "outputs": [],
   "source": [
    "output_file.to_csv('Submission.csv')"
   ]
  },
  {
   "cell_type": "code",
   "execution_count": null,
   "metadata": {},
   "outputs": [],
   "source": []
  }
 ],
 "metadata": {
  "kernelspec": {
   "display_name": "Python 3",
   "language": "python",
   "name": "python3"
  },
  "language_info": {
   "codemirror_mode": {
    "name": "ipython",
    "version": 3
   },
   "file_extension": ".py",
   "mimetype": "text/x-python",
   "name": "python",
   "nbconvert_exporter": "python",
   "pygments_lexer": "ipython3",
   "version": "3.7.4"
  }
 },
 "nbformat": 4,
 "nbformat_minor": 2
}
